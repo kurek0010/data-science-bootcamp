{
  "nbformat": 4,
  "nbformat_minor": 0,
  "metadata": {
    "colab": {
      "name": "03_metryki_regresja.ipynb",
      "provenance": [],
      "include_colab_link": true
    },
    "kernelspec": {
      "name": "python3",
      "display_name": "Python 3"
    }
  },
  "cells": [
    {
      "cell_type": "markdown",
      "metadata": {
        "id": "view-in-github",
        "colab_type": "text"
      },
      "source": [
        "<a href=\"https://colab.research.google.com/github/kurek0010/data-science-bootcamp/blob/main/06_uczenie_maszynowe/03_metryki_regresja.ipynb\" target=\"_parent\"><img src=\"https://colab.research.google.com/assets/colab-badge.svg\" alt=\"Open In Colab\"/></a>"
      ]
    },
    {
      "cell_type": "markdown",
      "metadata": {
        "id": "cVoURqdBJ6Vm"
      },
      "source": [
        "* @author: krakowiakpawel9@gmail.com  \n",
        "* @site: e-smartdata.org"
      ]
    },
    {
      "cell_type": "markdown",
      "metadata": {
        "id": "5gjFu2l9IMsj"
      },
      "source": [
        "### scikit-learn\n",
        ">Strona biblioteki: [https://scikit-learn.org](https://scikit-learn.org)  \n",
        ">\n",
        ">Dokumentacja/User Guide: [https://scikit-learn.org/stable/user_guide.html](https://scikit-learn.org/stable/user_guide.html)\n",
        ">\n",
        ">Podstawowa biblioteka do uczenia maszynowego w języku Python.\n",
        ">\n",
        ">Aby zainstalować bibliotekę scikit-learn, użyj polecenia poniżej:\n",
        "```\n",
        "pip install scikit-learn\n",
        "```\n",
        "\n",
        "### Metryki - Problem regresji:\n",
        "1. [Import bibliotek](#a0)\n",
        "2. [Interpretacja graficzna](#a2)\n",
        "3. [Mean Absolute Error - MAE - Średni błąd bezwzględny](#a3)\n",
        "4. [Mean Squared Error - MSE - Błąd średniokwadratowy](#a4)\n",
        "5. [Root Mean Squared Error - RMSE - Pierwiastek błędu średniokwadratowego](#a5)\n",
        "6. [Max Error - Błąd maksymalny](#a6)\n",
        "7. [R2 score - współczynnik determinacji](#a7)\n",
        "\n",
        "    "
      ]
    },
    {
      "cell_type": "markdown",
      "metadata": {
        "id": "1Dc4DhtS7LTD"
      },
      "source": [
        "### <a name='a0'></a>  Import bibliotek"
      ]
    },
    {
      "cell_type": "code",
      "metadata": {
        "id": "qQZ7LNIt7KAY"
      },
      "source": [
        "import numpy as np\n",
        "import pandas as pd\n",
        "import plotly.express as px\n",
        "import plotly.graph_objects as go"
      ],
      "execution_count": 1,
      "outputs": []
    },
    {
      "cell_type": "code",
      "metadata": {
        "id": "GhNVhidb7SG7",
        "outputId": "33fc9caa-eaf1-4b71-baa8-50c0769f559e",
        "colab": {
          "base_uri": "https://localhost:8080/"
        }
      },
      "source": [
        "y_true = 100 + 20 * np.random.randn(50)\n",
        "y_true"
      ],
      "execution_count": 3,
      "outputs": [
        {
          "output_type": "execute_result",
          "data": {
            "text/plain": [
              "array([ 94.67043356,  99.06728142, 103.03616231, 124.65170651,\n",
              "        87.97418399,  97.16653462, 108.58046859, 119.09087462,\n",
              "       143.04148494,  68.8747762 , 125.52677245,  69.95641197,\n",
              "       113.68044107, 129.45303822, 106.88540561, 110.04817419,\n",
              "       133.82037531, 105.5026382 ,  80.85834449,  92.52540563,\n",
              "       133.62544735,  89.32838825, 120.80597668, 101.0134295 ,\n",
              "       130.67341617, 104.65141865,  95.07043569,  83.57372534,\n",
              "        96.3669113 ,  96.19764057, 113.37686991, 102.20064078,\n",
              "       113.09543327, 120.2893458 , 114.43357855, 103.85245399,\n",
              "        69.4463771 ,  67.56818858, 103.62154774, 124.49932146,\n",
              "       104.90376845,  83.94105972, 128.64423127, 130.54998485,\n",
              "        89.55812698,  78.49186088, 102.92807697,  87.4566408 ,\n",
              "       114.043134  , 130.11399707])"
            ]
          },
          "metadata": {},
          "execution_count": 3
        }
      ]
    },
    {
      "cell_type": "code",
      "metadata": {
        "id": "HuAJr61k7cJV",
        "outputId": "b3f5687c-d95a-4395-c4bf-4966fa37f317",
        "colab": {
          "base_uri": "https://localhost:8080/"
        }
      },
      "source": [
        "y_pred = y_true + 10 * np.random.randn(50)\n",
        "y_pred"
      ],
      "execution_count": 4,
      "outputs": [
        {
          "output_type": "execute_result",
          "data": {
            "text/plain": [
              "array([105.16535254, 101.31521092,  93.1802259 , 115.28021021,\n",
              "        79.99517723,  77.39971543, 115.75702927, 133.61904329,\n",
              "       149.67468702,  60.9109361 , 113.06854766,  77.31505434,\n",
              "       118.32936264, 132.840181  , 115.8180292 , 106.51151083,\n",
              "       134.76403096, 122.43253601,  73.95672095,  98.39748282,\n",
              "       137.57463625, 101.18764836, 110.64140428, 110.85420861,\n",
              "       116.14588749, 125.37383114, 102.1567368 ,  79.5388764 ,\n",
              "        80.97160375, 100.70380974, 108.0648394 ,  91.03058581,\n",
              "       121.27495839, 125.32886189,  98.76788223,  92.20508615,\n",
              "        60.25908081,  69.60095714, 105.3369338 , 124.81775981,\n",
              "       102.66445799,  78.27539385, 140.13188223, 139.3367103 ,\n",
              "        80.34622647,  67.56774258, 105.39755371,  89.46316424,\n",
              "       127.20618104, 136.33462613])"
            ]
          },
          "metadata": {},
          "execution_count": 4
        }
      ]
    },
    {
      "cell_type": "code",
      "metadata": {
        "id": "8V3ah8zL7n2P",
        "outputId": "bfc29f43-0c2f-4002-88a9-a54eff7e3fb1",
        "colab": {
          "base_uri": "https://localhost:8080/",
          "height": 204
        }
      },
      "source": [
        "results = pd.DataFrame({'y_true': y_true, 'y_pred': y_pred})\n",
        "results.head()\n"
      ],
      "execution_count": 7,
      "outputs": [
        {
          "output_type": "execute_result",
          "data": {
            "text/plain": [
              "       y_true      y_pred\n",
              "0   94.670434  105.165353\n",
              "1   99.067281  101.315211\n",
              "2  103.036162   93.180226\n",
              "3  124.651707  115.280210\n",
              "4   87.974184   79.995177"
            ],
            "text/html": [
              "\n",
              "  <div id=\"df-24ff99fe-629c-4bf4-9845-4782c0c646ef\" class=\"colab-df-container\">\n",
              "    <div>\n",
              "<style scoped>\n",
              "    .dataframe tbody tr th:only-of-type {\n",
              "        vertical-align: middle;\n",
              "    }\n",
              "\n",
              "    .dataframe tbody tr th {\n",
              "        vertical-align: top;\n",
              "    }\n",
              "\n",
              "    .dataframe thead th {\n",
              "        text-align: right;\n",
              "    }\n",
              "</style>\n",
              "<table border=\"1\" class=\"dataframe\">\n",
              "  <thead>\n",
              "    <tr style=\"text-align: right;\">\n",
              "      <th></th>\n",
              "      <th>y_true</th>\n",
              "      <th>y_pred</th>\n",
              "    </tr>\n",
              "  </thead>\n",
              "  <tbody>\n",
              "    <tr>\n",
              "      <th>0</th>\n",
              "      <td>94.670434</td>\n",
              "      <td>105.165353</td>\n",
              "    </tr>\n",
              "    <tr>\n",
              "      <th>1</th>\n",
              "      <td>99.067281</td>\n",
              "      <td>101.315211</td>\n",
              "    </tr>\n",
              "    <tr>\n",
              "      <th>2</th>\n",
              "      <td>103.036162</td>\n",
              "      <td>93.180226</td>\n",
              "    </tr>\n",
              "    <tr>\n",
              "      <th>3</th>\n",
              "      <td>124.651707</td>\n",
              "      <td>115.280210</td>\n",
              "    </tr>\n",
              "    <tr>\n",
              "      <th>4</th>\n",
              "      <td>87.974184</td>\n",
              "      <td>79.995177</td>\n",
              "    </tr>\n",
              "  </tbody>\n",
              "</table>\n",
              "</div>\n",
              "    <div class=\"colab-df-buttons\">\n",
              "\n",
              "  <div class=\"colab-df-container\">\n",
              "    <button class=\"colab-df-convert\" onclick=\"convertToInteractive('df-24ff99fe-629c-4bf4-9845-4782c0c646ef')\"\n",
              "            title=\"Convert this dataframe to an interactive table.\"\n",
              "            style=\"display:none;\">\n",
              "\n",
              "  <svg xmlns=\"http://www.w3.org/2000/svg\" height=\"24px\" viewBox=\"0 -960 960 960\">\n",
              "    <path d=\"M120-120v-720h720v720H120Zm60-500h600v-160H180v160Zm220 220h160v-160H400v160Zm0 220h160v-160H400v160ZM180-400h160v-160H180v160Zm440 0h160v-160H620v160ZM180-180h160v-160H180v160Zm440 0h160v-160H620v160Z\"/>\n",
              "  </svg>\n",
              "    </button>\n",
              "\n",
              "  <style>\n",
              "    .colab-df-container {\n",
              "      display:flex;\n",
              "      gap: 12px;\n",
              "    }\n",
              "\n",
              "    .colab-df-convert {\n",
              "      background-color: #E8F0FE;\n",
              "      border: none;\n",
              "      border-radius: 50%;\n",
              "      cursor: pointer;\n",
              "      display: none;\n",
              "      fill: #1967D2;\n",
              "      height: 32px;\n",
              "      padding: 0 0 0 0;\n",
              "      width: 32px;\n",
              "    }\n",
              "\n",
              "    .colab-df-convert:hover {\n",
              "      background-color: #E2EBFA;\n",
              "      box-shadow: 0px 1px 2px rgba(60, 64, 67, 0.3), 0px 1px 3px 1px rgba(60, 64, 67, 0.15);\n",
              "      fill: #174EA6;\n",
              "    }\n",
              "\n",
              "    .colab-df-buttons div {\n",
              "      margin-bottom: 4px;\n",
              "    }\n",
              "\n",
              "    [theme=dark] .colab-df-convert {\n",
              "      background-color: #3B4455;\n",
              "      fill: #D2E3FC;\n",
              "    }\n",
              "\n",
              "    [theme=dark] .colab-df-convert:hover {\n",
              "      background-color: #434B5C;\n",
              "      box-shadow: 0px 1px 3px 1px rgba(0, 0, 0, 0.15);\n",
              "      filter: drop-shadow(0px 1px 2px rgba(0, 0, 0, 0.3));\n",
              "      fill: #FFFFFF;\n",
              "    }\n",
              "  </style>\n",
              "\n",
              "    <script>\n",
              "      const buttonEl =\n",
              "        document.querySelector('#df-24ff99fe-629c-4bf4-9845-4782c0c646ef button.colab-df-convert');\n",
              "      buttonEl.style.display =\n",
              "        google.colab.kernel.accessAllowed ? 'block' : 'none';\n",
              "\n",
              "      async function convertToInteractive(key) {\n",
              "        const element = document.querySelector('#df-24ff99fe-629c-4bf4-9845-4782c0c646ef');\n",
              "        const dataTable =\n",
              "          await google.colab.kernel.invokeFunction('convertToInteractive',\n",
              "                                                    [key], {});\n",
              "        if (!dataTable) return;\n",
              "\n",
              "        const docLinkHtml = 'Like what you see? Visit the ' +\n",
              "          '<a target=\"_blank\" href=https://colab.research.google.com/notebooks/data_table.ipynb>data table notebook</a>'\n",
              "          + ' to learn more about interactive tables.';\n",
              "        element.innerHTML = '';\n",
              "        dataTable['output_type'] = 'display_data';\n",
              "        await google.colab.output.renderOutput(dataTable, element);\n",
              "        const docLink = document.createElement('div');\n",
              "        docLink.innerHTML = docLinkHtml;\n",
              "        element.appendChild(docLink);\n",
              "      }\n",
              "    </script>\n",
              "  </div>\n",
              "\n",
              "\n",
              "<div id=\"df-5106063d-6758-4db7-bc8b-b12e2dd35753\">\n",
              "  <button class=\"colab-df-quickchart\" onclick=\"quickchart('df-5106063d-6758-4db7-bc8b-b12e2dd35753')\"\n",
              "            title=\"Suggest charts\"\n",
              "            style=\"display:none;\">\n",
              "\n",
              "<svg xmlns=\"http://www.w3.org/2000/svg\" height=\"24px\"viewBox=\"0 0 24 24\"\n",
              "     width=\"24px\">\n",
              "    <g>\n",
              "        <path d=\"M19 3H5c-1.1 0-2 .9-2 2v14c0 1.1.9 2 2 2h14c1.1 0 2-.9 2-2V5c0-1.1-.9-2-2-2zM9 17H7v-7h2v7zm4 0h-2V7h2v10zm4 0h-2v-4h2v4z\"/>\n",
              "    </g>\n",
              "</svg>\n",
              "  </button>\n",
              "\n",
              "<style>\n",
              "  .colab-df-quickchart {\n",
              "      --bg-color: #E8F0FE;\n",
              "      --fill-color: #1967D2;\n",
              "      --hover-bg-color: #E2EBFA;\n",
              "      --hover-fill-color: #174EA6;\n",
              "      --disabled-fill-color: #AAA;\n",
              "      --disabled-bg-color: #DDD;\n",
              "  }\n",
              "\n",
              "  [theme=dark] .colab-df-quickchart {\n",
              "      --bg-color: #3B4455;\n",
              "      --fill-color: #D2E3FC;\n",
              "      --hover-bg-color: #434B5C;\n",
              "      --hover-fill-color: #FFFFFF;\n",
              "      --disabled-bg-color: #3B4455;\n",
              "      --disabled-fill-color: #666;\n",
              "  }\n",
              "\n",
              "  .colab-df-quickchart {\n",
              "    background-color: var(--bg-color);\n",
              "    border: none;\n",
              "    border-radius: 50%;\n",
              "    cursor: pointer;\n",
              "    display: none;\n",
              "    fill: var(--fill-color);\n",
              "    height: 32px;\n",
              "    padding: 0;\n",
              "    width: 32px;\n",
              "  }\n",
              "\n",
              "  .colab-df-quickchart:hover {\n",
              "    background-color: var(--hover-bg-color);\n",
              "    box-shadow: 0 1px 2px rgba(60, 64, 67, 0.3), 0 1px 3px 1px rgba(60, 64, 67, 0.15);\n",
              "    fill: var(--button-hover-fill-color);\n",
              "  }\n",
              "\n",
              "  .colab-df-quickchart-complete:disabled,\n",
              "  .colab-df-quickchart-complete:disabled:hover {\n",
              "    background-color: var(--disabled-bg-color);\n",
              "    fill: var(--disabled-fill-color);\n",
              "    box-shadow: none;\n",
              "  }\n",
              "\n",
              "  .colab-df-spinner {\n",
              "    border: 2px solid var(--fill-color);\n",
              "    border-color: transparent;\n",
              "    border-bottom-color: var(--fill-color);\n",
              "    animation:\n",
              "      spin 1s steps(1) infinite;\n",
              "  }\n",
              "\n",
              "  @keyframes spin {\n",
              "    0% {\n",
              "      border-color: transparent;\n",
              "      border-bottom-color: var(--fill-color);\n",
              "      border-left-color: var(--fill-color);\n",
              "    }\n",
              "    20% {\n",
              "      border-color: transparent;\n",
              "      border-left-color: var(--fill-color);\n",
              "      border-top-color: var(--fill-color);\n",
              "    }\n",
              "    30% {\n",
              "      border-color: transparent;\n",
              "      border-left-color: var(--fill-color);\n",
              "      border-top-color: var(--fill-color);\n",
              "      border-right-color: var(--fill-color);\n",
              "    }\n",
              "    40% {\n",
              "      border-color: transparent;\n",
              "      border-right-color: var(--fill-color);\n",
              "      border-top-color: var(--fill-color);\n",
              "    }\n",
              "    60% {\n",
              "      border-color: transparent;\n",
              "      border-right-color: var(--fill-color);\n",
              "    }\n",
              "    80% {\n",
              "      border-color: transparent;\n",
              "      border-right-color: var(--fill-color);\n",
              "      border-bottom-color: var(--fill-color);\n",
              "    }\n",
              "    90% {\n",
              "      border-color: transparent;\n",
              "      border-bottom-color: var(--fill-color);\n",
              "    }\n",
              "  }\n",
              "</style>\n",
              "\n",
              "  <script>\n",
              "    async function quickchart(key) {\n",
              "      const quickchartButtonEl =\n",
              "        document.querySelector('#' + key + ' button');\n",
              "      quickchartButtonEl.disabled = true;  // To prevent multiple clicks.\n",
              "      quickchartButtonEl.classList.add('colab-df-spinner');\n",
              "      try {\n",
              "        const charts = await google.colab.kernel.invokeFunction(\n",
              "            'suggestCharts', [key], {});\n",
              "      } catch (error) {\n",
              "        console.error('Error during call to suggestCharts:', error);\n",
              "      }\n",
              "      quickchartButtonEl.classList.remove('colab-df-spinner');\n",
              "      quickchartButtonEl.classList.add('colab-df-quickchart-complete');\n",
              "    }\n",
              "    (() => {\n",
              "      let quickchartButtonEl =\n",
              "        document.querySelector('#df-5106063d-6758-4db7-bc8b-b12e2dd35753 button');\n",
              "      quickchartButtonEl.style.display =\n",
              "        google.colab.kernel.accessAllowed ? 'block' : 'none';\n",
              "    })();\n",
              "  </script>\n",
              "</div>\n",
              "    </div>\n",
              "  </div>\n"
            ],
            "application/vnd.google.colaboratory.intrinsic+json": {
              "type": "dataframe",
              "variable_name": "results",
              "summary": "{\n  \"name\": \"results\",\n  \"rows\": 50,\n  \"fields\": [\n    {\n      \"column\": \"y_true\",\n      \"properties\": {\n        \"dtype\": \"number\",\n        \"std\": 18.95397168442946,\n        \"min\": 67.56818858329595,\n        \"max\": 143.04148494081048,\n        \"num_unique_values\": 50,\n        \"samples\": [\n          129.45303821666897,\n          124.49932145974563,\n          113.37686991307777\n        ],\n        \"semantic_type\": \"\",\n        \"description\": \"\"\n      }\n    },\n    {\n      \"column\": \"y_pred\",\n      \"properties\": {\n        \"dtype\": \"number\",\n        \"std\": 22.653266256630484,\n        \"min\": 60.25908080728627,\n        \"max\": 149.67468702251156,\n        \"num_unique_values\": 50,\n        \"samples\": [\n          132.84018099984343,\n          124.81775980887998,\n          108.06483939736245\n        ],\n        \"semantic_type\": \"\",\n        \"description\": \"\"\n      }\n    }\n  ]\n}"
            }
          },
          "metadata": {},
          "execution_count": 7
        }
      ]
    },
    {
      "cell_type": "code",
      "metadata": {
        "id": "SPMt-m1e78VI",
        "outputId": "9033b0b2-6c0c-4efb-f84e-600eb3a58582",
        "colab": {
          "base_uri": "https://localhost:8080/",
          "height": 359
        }
      },
      "source": [
        "results['error'] = results['y_true'] - results['y_pred']\n",
        "results.head(10)"
      ],
      "execution_count": 9,
      "outputs": [
        {
          "output_type": "execute_result",
          "data": {
            "text/plain": [
              "       y_true      y_pred      error\n",
              "0   94.670434  105.165353 -10.494919\n",
              "1   99.067281  101.315211  -2.247929\n",
              "2  103.036162   93.180226   9.855936\n",
              "3  124.651707  115.280210   9.371496\n",
              "4   87.974184   79.995177   7.979007\n",
              "5   97.166535   77.399715  19.766819\n",
              "6  108.580469  115.757029  -7.176561\n",
              "7  119.090875  133.619043 -14.528169\n",
              "8  143.041485  149.674687  -6.633202\n",
              "9   68.874776   60.910936   7.963840"
            ],
            "text/html": [
              "\n",
              "  <div id=\"df-153fc08f-7c88-46ae-a2ae-09b3b769493e\" class=\"colab-df-container\">\n",
              "    <div>\n",
              "<style scoped>\n",
              "    .dataframe tbody tr th:only-of-type {\n",
              "        vertical-align: middle;\n",
              "    }\n",
              "\n",
              "    .dataframe tbody tr th {\n",
              "        vertical-align: top;\n",
              "    }\n",
              "\n",
              "    .dataframe thead th {\n",
              "        text-align: right;\n",
              "    }\n",
              "</style>\n",
              "<table border=\"1\" class=\"dataframe\">\n",
              "  <thead>\n",
              "    <tr style=\"text-align: right;\">\n",
              "      <th></th>\n",
              "      <th>y_true</th>\n",
              "      <th>y_pred</th>\n",
              "      <th>error</th>\n",
              "    </tr>\n",
              "  </thead>\n",
              "  <tbody>\n",
              "    <tr>\n",
              "      <th>0</th>\n",
              "      <td>94.670434</td>\n",
              "      <td>105.165353</td>\n",
              "      <td>-10.494919</td>\n",
              "    </tr>\n",
              "    <tr>\n",
              "      <th>1</th>\n",
              "      <td>99.067281</td>\n",
              "      <td>101.315211</td>\n",
              "      <td>-2.247929</td>\n",
              "    </tr>\n",
              "    <tr>\n",
              "      <th>2</th>\n",
              "      <td>103.036162</td>\n",
              "      <td>93.180226</td>\n",
              "      <td>9.855936</td>\n",
              "    </tr>\n",
              "    <tr>\n",
              "      <th>3</th>\n",
              "      <td>124.651707</td>\n",
              "      <td>115.280210</td>\n",
              "      <td>9.371496</td>\n",
              "    </tr>\n",
              "    <tr>\n",
              "      <th>4</th>\n",
              "      <td>87.974184</td>\n",
              "      <td>79.995177</td>\n",
              "      <td>7.979007</td>\n",
              "    </tr>\n",
              "    <tr>\n",
              "      <th>5</th>\n",
              "      <td>97.166535</td>\n",
              "      <td>77.399715</td>\n",
              "      <td>19.766819</td>\n",
              "    </tr>\n",
              "    <tr>\n",
              "      <th>6</th>\n",
              "      <td>108.580469</td>\n",
              "      <td>115.757029</td>\n",
              "      <td>-7.176561</td>\n",
              "    </tr>\n",
              "    <tr>\n",
              "      <th>7</th>\n",
              "      <td>119.090875</td>\n",
              "      <td>133.619043</td>\n",
              "      <td>-14.528169</td>\n",
              "    </tr>\n",
              "    <tr>\n",
              "      <th>8</th>\n",
              "      <td>143.041485</td>\n",
              "      <td>149.674687</td>\n",
              "      <td>-6.633202</td>\n",
              "    </tr>\n",
              "    <tr>\n",
              "      <th>9</th>\n",
              "      <td>68.874776</td>\n",
              "      <td>60.910936</td>\n",
              "      <td>7.963840</td>\n",
              "    </tr>\n",
              "  </tbody>\n",
              "</table>\n",
              "</div>\n",
              "    <div class=\"colab-df-buttons\">\n",
              "\n",
              "  <div class=\"colab-df-container\">\n",
              "    <button class=\"colab-df-convert\" onclick=\"convertToInteractive('df-153fc08f-7c88-46ae-a2ae-09b3b769493e')\"\n",
              "            title=\"Convert this dataframe to an interactive table.\"\n",
              "            style=\"display:none;\">\n",
              "\n",
              "  <svg xmlns=\"http://www.w3.org/2000/svg\" height=\"24px\" viewBox=\"0 -960 960 960\">\n",
              "    <path d=\"M120-120v-720h720v720H120Zm60-500h600v-160H180v160Zm220 220h160v-160H400v160Zm0 220h160v-160H400v160ZM180-400h160v-160H180v160Zm440 0h160v-160H620v160ZM180-180h160v-160H180v160Zm440 0h160v-160H620v160Z\"/>\n",
              "  </svg>\n",
              "    </button>\n",
              "\n",
              "  <style>\n",
              "    .colab-df-container {\n",
              "      display:flex;\n",
              "      gap: 12px;\n",
              "    }\n",
              "\n",
              "    .colab-df-convert {\n",
              "      background-color: #E8F0FE;\n",
              "      border: none;\n",
              "      border-radius: 50%;\n",
              "      cursor: pointer;\n",
              "      display: none;\n",
              "      fill: #1967D2;\n",
              "      height: 32px;\n",
              "      padding: 0 0 0 0;\n",
              "      width: 32px;\n",
              "    }\n",
              "\n",
              "    .colab-df-convert:hover {\n",
              "      background-color: #E2EBFA;\n",
              "      box-shadow: 0px 1px 2px rgba(60, 64, 67, 0.3), 0px 1px 3px 1px rgba(60, 64, 67, 0.15);\n",
              "      fill: #174EA6;\n",
              "    }\n",
              "\n",
              "    .colab-df-buttons div {\n",
              "      margin-bottom: 4px;\n",
              "    }\n",
              "\n",
              "    [theme=dark] .colab-df-convert {\n",
              "      background-color: #3B4455;\n",
              "      fill: #D2E3FC;\n",
              "    }\n",
              "\n",
              "    [theme=dark] .colab-df-convert:hover {\n",
              "      background-color: #434B5C;\n",
              "      box-shadow: 0px 1px 3px 1px rgba(0, 0, 0, 0.15);\n",
              "      filter: drop-shadow(0px 1px 2px rgba(0, 0, 0, 0.3));\n",
              "      fill: #FFFFFF;\n",
              "    }\n",
              "  </style>\n",
              "\n",
              "    <script>\n",
              "      const buttonEl =\n",
              "        document.querySelector('#df-153fc08f-7c88-46ae-a2ae-09b3b769493e button.colab-df-convert');\n",
              "      buttonEl.style.display =\n",
              "        google.colab.kernel.accessAllowed ? 'block' : 'none';\n",
              "\n",
              "      async function convertToInteractive(key) {\n",
              "        const element = document.querySelector('#df-153fc08f-7c88-46ae-a2ae-09b3b769493e');\n",
              "        const dataTable =\n",
              "          await google.colab.kernel.invokeFunction('convertToInteractive',\n",
              "                                                    [key], {});\n",
              "        if (!dataTable) return;\n",
              "\n",
              "        const docLinkHtml = 'Like what you see? Visit the ' +\n",
              "          '<a target=\"_blank\" href=https://colab.research.google.com/notebooks/data_table.ipynb>data table notebook</a>'\n",
              "          + ' to learn more about interactive tables.';\n",
              "        element.innerHTML = '';\n",
              "        dataTable['output_type'] = 'display_data';\n",
              "        await google.colab.output.renderOutput(dataTable, element);\n",
              "        const docLink = document.createElement('div');\n",
              "        docLink.innerHTML = docLinkHtml;\n",
              "        element.appendChild(docLink);\n",
              "      }\n",
              "    </script>\n",
              "  </div>\n",
              "\n",
              "\n",
              "<div id=\"df-9f0e542a-2836-4e23-a16a-317f592d9314\">\n",
              "  <button class=\"colab-df-quickchart\" onclick=\"quickchart('df-9f0e542a-2836-4e23-a16a-317f592d9314')\"\n",
              "            title=\"Suggest charts\"\n",
              "            style=\"display:none;\">\n",
              "\n",
              "<svg xmlns=\"http://www.w3.org/2000/svg\" height=\"24px\"viewBox=\"0 0 24 24\"\n",
              "     width=\"24px\">\n",
              "    <g>\n",
              "        <path d=\"M19 3H5c-1.1 0-2 .9-2 2v14c0 1.1.9 2 2 2h14c1.1 0 2-.9 2-2V5c0-1.1-.9-2-2-2zM9 17H7v-7h2v7zm4 0h-2V7h2v10zm4 0h-2v-4h2v4z\"/>\n",
              "    </g>\n",
              "</svg>\n",
              "  </button>\n",
              "\n",
              "<style>\n",
              "  .colab-df-quickchart {\n",
              "      --bg-color: #E8F0FE;\n",
              "      --fill-color: #1967D2;\n",
              "      --hover-bg-color: #E2EBFA;\n",
              "      --hover-fill-color: #174EA6;\n",
              "      --disabled-fill-color: #AAA;\n",
              "      --disabled-bg-color: #DDD;\n",
              "  }\n",
              "\n",
              "  [theme=dark] .colab-df-quickchart {\n",
              "      --bg-color: #3B4455;\n",
              "      --fill-color: #D2E3FC;\n",
              "      --hover-bg-color: #434B5C;\n",
              "      --hover-fill-color: #FFFFFF;\n",
              "      --disabled-bg-color: #3B4455;\n",
              "      --disabled-fill-color: #666;\n",
              "  }\n",
              "\n",
              "  .colab-df-quickchart {\n",
              "    background-color: var(--bg-color);\n",
              "    border: none;\n",
              "    border-radius: 50%;\n",
              "    cursor: pointer;\n",
              "    display: none;\n",
              "    fill: var(--fill-color);\n",
              "    height: 32px;\n",
              "    padding: 0;\n",
              "    width: 32px;\n",
              "  }\n",
              "\n",
              "  .colab-df-quickchart:hover {\n",
              "    background-color: var(--hover-bg-color);\n",
              "    box-shadow: 0 1px 2px rgba(60, 64, 67, 0.3), 0 1px 3px 1px rgba(60, 64, 67, 0.15);\n",
              "    fill: var(--button-hover-fill-color);\n",
              "  }\n",
              "\n",
              "  .colab-df-quickchart-complete:disabled,\n",
              "  .colab-df-quickchart-complete:disabled:hover {\n",
              "    background-color: var(--disabled-bg-color);\n",
              "    fill: var(--disabled-fill-color);\n",
              "    box-shadow: none;\n",
              "  }\n",
              "\n",
              "  .colab-df-spinner {\n",
              "    border: 2px solid var(--fill-color);\n",
              "    border-color: transparent;\n",
              "    border-bottom-color: var(--fill-color);\n",
              "    animation:\n",
              "      spin 1s steps(1) infinite;\n",
              "  }\n",
              "\n",
              "  @keyframes spin {\n",
              "    0% {\n",
              "      border-color: transparent;\n",
              "      border-bottom-color: var(--fill-color);\n",
              "      border-left-color: var(--fill-color);\n",
              "    }\n",
              "    20% {\n",
              "      border-color: transparent;\n",
              "      border-left-color: var(--fill-color);\n",
              "      border-top-color: var(--fill-color);\n",
              "    }\n",
              "    30% {\n",
              "      border-color: transparent;\n",
              "      border-left-color: var(--fill-color);\n",
              "      border-top-color: var(--fill-color);\n",
              "      border-right-color: var(--fill-color);\n",
              "    }\n",
              "    40% {\n",
              "      border-color: transparent;\n",
              "      border-right-color: var(--fill-color);\n",
              "      border-top-color: var(--fill-color);\n",
              "    }\n",
              "    60% {\n",
              "      border-color: transparent;\n",
              "      border-right-color: var(--fill-color);\n",
              "    }\n",
              "    80% {\n",
              "      border-color: transparent;\n",
              "      border-right-color: var(--fill-color);\n",
              "      border-bottom-color: var(--fill-color);\n",
              "    }\n",
              "    90% {\n",
              "      border-color: transparent;\n",
              "      border-bottom-color: var(--fill-color);\n",
              "    }\n",
              "  }\n",
              "</style>\n",
              "\n",
              "  <script>\n",
              "    async function quickchart(key) {\n",
              "      const quickchartButtonEl =\n",
              "        document.querySelector('#' + key + ' button');\n",
              "      quickchartButtonEl.disabled = true;  // To prevent multiple clicks.\n",
              "      quickchartButtonEl.classList.add('colab-df-spinner');\n",
              "      try {\n",
              "        const charts = await google.colab.kernel.invokeFunction(\n",
              "            'suggestCharts', [key], {});\n",
              "      } catch (error) {\n",
              "        console.error('Error during call to suggestCharts:', error);\n",
              "      }\n",
              "      quickchartButtonEl.classList.remove('colab-df-spinner');\n",
              "      quickchartButtonEl.classList.add('colab-df-quickchart-complete');\n",
              "    }\n",
              "    (() => {\n",
              "      let quickchartButtonEl =\n",
              "        document.querySelector('#df-9f0e542a-2836-4e23-a16a-317f592d9314 button');\n",
              "      quickchartButtonEl.style.display =\n",
              "        google.colab.kernel.accessAllowed ? 'block' : 'none';\n",
              "    })();\n",
              "  </script>\n",
              "</div>\n",
              "    </div>\n",
              "  </div>\n"
            ],
            "application/vnd.google.colaboratory.intrinsic+json": {
              "type": "dataframe",
              "variable_name": "results",
              "summary": "{\n  \"name\": \"results\",\n  \"rows\": 50,\n  \"fields\": [\n    {\n      \"column\": \"y_true\",\n      \"properties\": {\n        \"dtype\": \"number\",\n        \"std\": 18.95397168442946,\n        \"min\": 67.56818858329595,\n        \"max\": 143.04148494081048,\n        \"num_unique_values\": 50,\n        \"samples\": [\n          129.45303821666897,\n          124.49932145974563,\n          113.37686991307777\n        ],\n        \"semantic_type\": \"\",\n        \"description\": \"\"\n      }\n    },\n    {\n      \"column\": \"y_pred\",\n      \"properties\": {\n        \"dtype\": \"number\",\n        \"std\": 22.653266256630484,\n        \"min\": 60.25908080728627,\n        \"max\": 149.67468702251156,\n        \"num_unique_values\": 50,\n        \"samples\": [\n          132.84018099984343,\n          124.81775980887998,\n          108.06483939736245\n        ],\n        \"semantic_type\": \"\",\n        \"description\": \"\"\n      }\n    },\n    {\n      \"column\": \"error\",\n      \"properties\": {\n        \"dtype\": \"number\",\n        \"std\": 9.62510825055691,\n        \"min\": -20.722412491796362,\n        \"max\": 19.76681918972409,\n        \"num_unique_values\": 50,\n        \"samples\": [\n          -3.387142783174454,\n          -0.31843834913435387,\n          5.312030515715321\n        ],\n        \"semantic_type\": \"\",\n        \"description\": \"\"\n      }\n    }\n  ]\n}"
            }
          },
          "metadata": {},
          "execution_count": 9
        }
      ]
    },
    {
      "cell_type": "markdown",
      "metadata": {
        "id": "JkXYHzBlCrXB"
      },
      "source": [
        "\n",
        "### <a name='a2'></a> Interpretacja graficzna"
      ]
    },
    {
      "cell_type": "code",
      "metadata": {
        "id": "aFdc5zl6_bih",
        "outputId": "ab9d8a27-4c73-49e5-9e21-b339ca6b80ce",
        "colab": {
          "base_uri": "https://localhost:8080/",
          "height": 517
        }
      },
      "source": [
        "def plot_regression_results(y_true, y_pred):\n",
        "    results = pd.DataFrame({'y_true': y_true, 'y_pred': y_pred})\n",
        "    min = results[['y_true', 'y_pred']].min().min()\n",
        "    max = results[['y_true', 'y_pred']].max().max()\n",
        "\n",
        "    fig = go.Figure(data=[go.Scatter(x=results['y_true'], y=results['y_pred'], mode='markers'),\n",
        "                    go.Scatter(x=[min, max], y=[min, max])],\n",
        "                    layout=go.Layout(showlegend=False, width=800, height=500,\n",
        "                                     xaxis_title='y_true',\n",
        "                                     yaxis_title='y_pred',\n",
        "                                     title='Regression results'))\n",
        "    fig.show()\n",
        "plot_regression_results(y_true, y_pred)"
      ],
      "execution_count": 10,
      "outputs": [
        {
          "output_type": "display_data",
          "data": {
            "text/html": [
              "<html>\n",
              "<head><meta charset=\"utf-8\" /></head>\n",
              "<body>\n",
              "    <div>            <script src=\"https://cdnjs.cloudflare.com/ajax/libs/mathjax/2.7.5/MathJax.js?config=TeX-AMS-MML_SVG\"></script><script type=\"text/javascript\">if (window.MathJax && window.MathJax.Hub && window.MathJax.Hub.Config) {window.MathJax.Hub.Config({SVG: {font: \"STIX-Web\"}});}</script>                <script type=\"text/javascript\">window.PlotlyConfig = {MathJaxConfig: 'local'};</script>\n",
              "        <script charset=\"utf-8\" src=\"https://cdn.plot.ly/plotly-2.24.1.min.js\"></script>                <div id=\"3230d01b-7404-4f44-b535-101deb52ba54\" class=\"plotly-graph-div\" style=\"height:500px; width:800px;\"></div>            <script type=\"text/javascript\">                                    window.PLOTLYENV=window.PLOTLYENV || {};                                    if (document.getElementById(\"3230d01b-7404-4f44-b535-101deb52ba54\")) {                    Plotly.newPlot(                        \"3230d01b-7404-4f44-b535-101deb52ba54\",                        [{\"mode\":\"markers\",\"x\":[94.67043355717331,99.0672814230556,103.0361623139823,124.65170651282726,87.97418398855866,97.16653461561138,108.5804685869954,119.0908746178475,143.04148494081048,68.87477620135243,125.52677244639466,69.95641197435573,113.68044107481107,129.45303821666897,106.88540561226465,110.04817418691184,133.82037531474862,105.50263820315459,80.85834449337074,92.52540562541765,133.62544734844448,89.32838825223773,120.80597668088993,101.01342950327698,130.67341617425612,104.65141864651159,95.0704356908732,83.57372534108009,96.3669113032615,96.19764057316847,113.37686991307777,102.2006407837461,113.09543326863688,120.28934579781799,114.43357854975699,103.85245399462649,69.44637709688452,67.56818858329595,103.62154773631755,124.49932145974563,104.90376845081515,83.94105971578917,128.64423126622742,130.54998484557737,89.5581269800768,78.49186088447448,102.9280769673615,87.45664080435677,114.0431339992142,130.11399706767273],\"y\":[105.16535253796809,101.31521092300646,93.18022589859325,115.2802102080064,79.99517723051262,77.3997154258873,115.75702926938769,133.61904328813245,149.67468702251156,60.91093610293843,113.06854765925824,77.31505434137591,118.32936263660122,132.84018099984343,115.81802919827071,106.51151083018296,134.76403095964636,122.43253600827359,73.95672094875304,98.39748282194778,137.5746362544383,101.18764835882567,110.64140428126694,110.85420860700796,116.14588748870881,125.37383113830795,102.15673679901609,79.53887640317303,80.97160375059396,100.70380974296505,108.06483939736245,91.03058581047517,121.27495839061878,125.32886189053824,98.76788222566964,92.20508615167422,60.25908080728627,69.60095714427412,105.3369338030547,124.81775980887998,102.66445798949951,78.27539384920227,140.13188222511374,139.33671029514576,80.34622647436888,67.567742578039,105.39755371066576,89.46316423536376,127.20618104008351,136.3346261344406],\"type\":\"scatter\"},{\"x\":[60.25908080728627,149.67468702251156],\"y\":[60.25908080728627,149.67468702251156],\"type\":\"scatter\"}],                        {\"height\":500,\"showlegend\":false,\"title\":{\"text\":\"Regression results\"},\"width\":800,\"xaxis\":{\"title\":{\"text\":\"y_true\"}},\"yaxis\":{\"title\":{\"text\":\"y_pred\"}},\"template\":{\"data\":{\"histogram2dcontour\":[{\"type\":\"histogram2dcontour\",\"colorbar\":{\"outlinewidth\":0,\"ticks\":\"\"},\"colorscale\":[[0.0,\"#0d0887\"],[0.1111111111111111,\"#46039f\"],[0.2222222222222222,\"#7201a8\"],[0.3333333333333333,\"#9c179e\"],[0.4444444444444444,\"#bd3786\"],[0.5555555555555556,\"#d8576b\"],[0.6666666666666666,\"#ed7953\"],[0.7777777777777778,\"#fb9f3a\"],[0.8888888888888888,\"#fdca26\"],[1.0,\"#f0f921\"]]}],\"choropleth\":[{\"type\":\"choropleth\",\"colorbar\":{\"outlinewidth\":0,\"ticks\":\"\"}}],\"histogram2d\":[{\"type\":\"histogram2d\",\"colorbar\":{\"outlinewidth\":0,\"ticks\":\"\"},\"colorscale\":[[0.0,\"#0d0887\"],[0.1111111111111111,\"#46039f\"],[0.2222222222222222,\"#7201a8\"],[0.3333333333333333,\"#9c179e\"],[0.4444444444444444,\"#bd3786\"],[0.5555555555555556,\"#d8576b\"],[0.6666666666666666,\"#ed7953\"],[0.7777777777777778,\"#fb9f3a\"],[0.8888888888888888,\"#fdca26\"],[1.0,\"#f0f921\"]]}],\"heatmap\":[{\"type\":\"heatmap\",\"colorbar\":{\"outlinewidth\":0,\"ticks\":\"\"},\"colorscale\":[[0.0,\"#0d0887\"],[0.1111111111111111,\"#46039f\"],[0.2222222222222222,\"#7201a8\"],[0.3333333333333333,\"#9c179e\"],[0.4444444444444444,\"#bd3786\"],[0.5555555555555556,\"#d8576b\"],[0.6666666666666666,\"#ed7953\"],[0.7777777777777778,\"#fb9f3a\"],[0.8888888888888888,\"#fdca26\"],[1.0,\"#f0f921\"]]}],\"heatmapgl\":[{\"type\":\"heatmapgl\",\"colorbar\":{\"outlinewidth\":0,\"ticks\":\"\"},\"colorscale\":[[0.0,\"#0d0887\"],[0.1111111111111111,\"#46039f\"],[0.2222222222222222,\"#7201a8\"],[0.3333333333333333,\"#9c179e\"],[0.4444444444444444,\"#bd3786\"],[0.5555555555555556,\"#d8576b\"],[0.6666666666666666,\"#ed7953\"],[0.7777777777777778,\"#fb9f3a\"],[0.8888888888888888,\"#fdca26\"],[1.0,\"#f0f921\"]]}],\"contourcarpet\":[{\"type\":\"contourcarpet\",\"colorbar\":{\"outlinewidth\":0,\"ticks\":\"\"}}],\"contour\":[{\"type\":\"contour\",\"colorbar\":{\"outlinewidth\":0,\"ticks\":\"\"},\"colorscale\":[[0.0,\"#0d0887\"],[0.1111111111111111,\"#46039f\"],[0.2222222222222222,\"#7201a8\"],[0.3333333333333333,\"#9c179e\"],[0.4444444444444444,\"#bd3786\"],[0.5555555555555556,\"#d8576b\"],[0.6666666666666666,\"#ed7953\"],[0.7777777777777778,\"#fb9f3a\"],[0.8888888888888888,\"#fdca26\"],[1.0,\"#f0f921\"]]}],\"surface\":[{\"type\":\"surface\",\"colorbar\":{\"outlinewidth\":0,\"ticks\":\"\"},\"colorscale\":[[0.0,\"#0d0887\"],[0.1111111111111111,\"#46039f\"],[0.2222222222222222,\"#7201a8\"],[0.3333333333333333,\"#9c179e\"],[0.4444444444444444,\"#bd3786\"],[0.5555555555555556,\"#d8576b\"],[0.6666666666666666,\"#ed7953\"],[0.7777777777777778,\"#fb9f3a\"],[0.8888888888888888,\"#fdca26\"],[1.0,\"#f0f921\"]]}],\"mesh3d\":[{\"type\":\"mesh3d\",\"colorbar\":{\"outlinewidth\":0,\"ticks\":\"\"}}],\"scatter\":[{\"fillpattern\":{\"fillmode\":\"overlay\",\"size\":10,\"solidity\":0.2},\"type\":\"scatter\"}],\"parcoords\":[{\"type\":\"parcoords\",\"line\":{\"colorbar\":{\"outlinewidth\":0,\"ticks\":\"\"}}}],\"scatterpolargl\":[{\"type\":\"scatterpolargl\",\"marker\":{\"colorbar\":{\"outlinewidth\":0,\"ticks\":\"\"}}}],\"bar\":[{\"error_x\":{\"color\":\"#2a3f5f\"},\"error_y\":{\"color\":\"#2a3f5f\"},\"marker\":{\"line\":{\"color\":\"#E5ECF6\",\"width\":0.5},\"pattern\":{\"fillmode\":\"overlay\",\"size\":10,\"solidity\":0.2}},\"type\":\"bar\"}],\"scattergeo\":[{\"type\":\"scattergeo\",\"marker\":{\"colorbar\":{\"outlinewidth\":0,\"ticks\":\"\"}}}],\"scatterpolar\":[{\"type\":\"scatterpolar\",\"marker\":{\"colorbar\":{\"outlinewidth\":0,\"ticks\":\"\"}}}],\"histogram\":[{\"marker\":{\"pattern\":{\"fillmode\":\"overlay\",\"size\":10,\"solidity\":0.2}},\"type\":\"histogram\"}],\"scattergl\":[{\"type\":\"scattergl\",\"marker\":{\"colorbar\":{\"outlinewidth\":0,\"ticks\":\"\"}}}],\"scatter3d\":[{\"type\":\"scatter3d\",\"line\":{\"colorbar\":{\"outlinewidth\":0,\"ticks\":\"\"}},\"marker\":{\"colorbar\":{\"outlinewidth\":0,\"ticks\":\"\"}}}],\"scattermapbox\":[{\"type\":\"scattermapbox\",\"marker\":{\"colorbar\":{\"outlinewidth\":0,\"ticks\":\"\"}}}],\"scatterternary\":[{\"type\":\"scatterternary\",\"marker\":{\"colorbar\":{\"outlinewidth\":0,\"ticks\":\"\"}}}],\"scattercarpet\":[{\"type\":\"scattercarpet\",\"marker\":{\"colorbar\":{\"outlinewidth\":0,\"ticks\":\"\"}}}],\"carpet\":[{\"aaxis\":{\"endlinecolor\":\"#2a3f5f\",\"gridcolor\":\"white\",\"linecolor\":\"white\",\"minorgridcolor\":\"white\",\"startlinecolor\":\"#2a3f5f\"},\"baxis\":{\"endlinecolor\":\"#2a3f5f\",\"gridcolor\":\"white\",\"linecolor\":\"white\",\"minorgridcolor\":\"white\",\"startlinecolor\":\"#2a3f5f\"},\"type\":\"carpet\"}],\"table\":[{\"cells\":{\"fill\":{\"color\":\"#EBF0F8\"},\"line\":{\"color\":\"white\"}},\"header\":{\"fill\":{\"color\":\"#C8D4E3\"},\"line\":{\"color\":\"white\"}},\"type\":\"table\"}],\"barpolar\":[{\"marker\":{\"line\":{\"color\":\"#E5ECF6\",\"width\":0.5},\"pattern\":{\"fillmode\":\"overlay\",\"size\":10,\"solidity\":0.2}},\"type\":\"barpolar\"}],\"pie\":[{\"automargin\":true,\"type\":\"pie\"}]},\"layout\":{\"autotypenumbers\":\"strict\",\"colorway\":[\"#636efa\",\"#EF553B\",\"#00cc96\",\"#ab63fa\",\"#FFA15A\",\"#19d3f3\",\"#FF6692\",\"#B6E880\",\"#FF97FF\",\"#FECB52\"],\"font\":{\"color\":\"#2a3f5f\"},\"hovermode\":\"closest\",\"hoverlabel\":{\"align\":\"left\"},\"paper_bgcolor\":\"white\",\"plot_bgcolor\":\"#E5ECF6\",\"polar\":{\"bgcolor\":\"#E5ECF6\",\"angularaxis\":{\"gridcolor\":\"white\",\"linecolor\":\"white\",\"ticks\":\"\"},\"radialaxis\":{\"gridcolor\":\"white\",\"linecolor\":\"white\",\"ticks\":\"\"}},\"ternary\":{\"bgcolor\":\"#E5ECF6\",\"aaxis\":{\"gridcolor\":\"white\",\"linecolor\":\"white\",\"ticks\":\"\"},\"baxis\":{\"gridcolor\":\"white\",\"linecolor\":\"white\",\"ticks\":\"\"},\"caxis\":{\"gridcolor\":\"white\",\"linecolor\":\"white\",\"ticks\":\"\"}},\"coloraxis\":{\"colorbar\":{\"outlinewidth\":0,\"ticks\":\"\"}},\"colorscale\":{\"sequential\":[[0.0,\"#0d0887\"],[0.1111111111111111,\"#46039f\"],[0.2222222222222222,\"#7201a8\"],[0.3333333333333333,\"#9c179e\"],[0.4444444444444444,\"#bd3786\"],[0.5555555555555556,\"#d8576b\"],[0.6666666666666666,\"#ed7953\"],[0.7777777777777778,\"#fb9f3a\"],[0.8888888888888888,\"#fdca26\"],[1.0,\"#f0f921\"]],\"sequentialminus\":[[0.0,\"#0d0887\"],[0.1111111111111111,\"#46039f\"],[0.2222222222222222,\"#7201a8\"],[0.3333333333333333,\"#9c179e\"],[0.4444444444444444,\"#bd3786\"],[0.5555555555555556,\"#d8576b\"],[0.6666666666666666,\"#ed7953\"],[0.7777777777777778,\"#fb9f3a\"],[0.8888888888888888,\"#fdca26\"],[1.0,\"#f0f921\"]],\"diverging\":[[0,\"#8e0152\"],[0.1,\"#c51b7d\"],[0.2,\"#de77ae\"],[0.3,\"#f1b6da\"],[0.4,\"#fde0ef\"],[0.5,\"#f7f7f7\"],[0.6,\"#e6f5d0\"],[0.7,\"#b8e186\"],[0.8,\"#7fbc41\"],[0.9,\"#4d9221\"],[1,\"#276419\"]]},\"xaxis\":{\"gridcolor\":\"white\",\"linecolor\":\"white\",\"ticks\":\"\",\"title\":{\"standoff\":15},\"zerolinecolor\":\"white\",\"automargin\":true,\"zerolinewidth\":2},\"yaxis\":{\"gridcolor\":\"white\",\"linecolor\":\"white\",\"ticks\":\"\",\"title\":{\"standoff\":15},\"zerolinecolor\":\"white\",\"automargin\":true,\"zerolinewidth\":2},\"scene\":{\"xaxis\":{\"backgroundcolor\":\"#E5ECF6\",\"gridcolor\":\"white\",\"linecolor\":\"white\",\"showbackground\":true,\"ticks\":\"\",\"zerolinecolor\":\"white\",\"gridwidth\":2},\"yaxis\":{\"backgroundcolor\":\"#E5ECF6\",\"gridcolor\":\"white\",\"linecolor\":\"white\",\"showbackground\":true,\"ticks\":\"\",\"zerolinecolor\":\"white\",\"gridwidth\":2},\"zaxis\":{\"backgroundcolor\":\"#E5ECF6\",\"gridcolor\":\"white\",\"linecolor\":\"white\",\"showbackground\":true,\"ticks\":\"\",\"zerolinecolor\":\"white\",\"gridwidth\":2}},\"shapedefaults\":{\"line\":{\"color\":\"#2a3f5f\"}},\"annotationdefaults\":{\"arrowcolor\":\"#2a3f5f\",\"arrowhead\":0,\"arrowwidth\":1},\"geo\":{\"bgcolor\":\"white\",\"landcolor\":\"#E5ECF6\",\"subunitcolor\":\"white\",\"showland\":true,\"showlakes\":true,\"lakecolor\":\"white\"},\"title\":{\"x\":0.05},\"mapbox\":{\"style\":\"light\"}}}},                        {\"responsive\": true}                    ).then(function(){\n",
              "                            \n",
              "var gd = document.getElementById('3230d01b-7404-4f44-b535-101deb52ba54');\n",
              "var x = new MutationObserver(function (mutations, observer) {{\n",
              "        var display = window.getComputedStyle(gd).display;\n",
              "        if (!display || display === 'none') {{\n",
              "            console.log([gd, 'removed!']);\n",
              "            Plotly.purge(gd);\n",
              "            observer.disconnect();\n",
              "        }}\n",
              "}});\n",
              "\n",
              "// Listen for the removal of the full notebook cells\n",
              "var notebookContainer = gd.closest('#notebook-container');\n",
              "if (notebookContainer) {{\n",
              "    x.observe(notebookContainer, {childList: true});\n",
              "}}\n",
              "\n",
              "// Listen for the clearing of the current output cell\n",
              "var outputEl = gd.closest('.output');\n",
              "if (outputEl) {{\n",
              "    x.observe(outputEl, {childList: true});\n",
              "}}\n",
              "\n",
              "                        })                };                            </script>        </div>\n",
              "</body>\n",
              "</html>"
            ]
          },
          "metadata": {}
        }
      ]
    },
    {
      "cell_type": "code",
      "metadata": {
        "id": "2j7Zs1XLDGCL",
        "outputId": "a4b995b9-f0f9-412e-92f0-e95de0e26c5b",
        "colab": {
          "base_uri": "https://localhost:8080/",
          "height": 542
        }
      },
      "source": [
        "y_true = 100 + 20 * np.random.randn(1000)\n",
        "y_pred = y_true + 10 * np.random.randn(1000)\n",
        "results = pd.DataFrame({'y_true': y_true, 'y_pred': y_pred})\n",
        "results['error'] = results['y_true'] - results['y_pred']\n",
        "\n",
        "px.histogram(results, x='error', nbins=50, width=800)"
      ],
      "execution_count": 11,
      "outputs": [
        {
          "output_type": "display_data",
          "data": {
            "text/html": [
              "<html>\n",
              "<head><meta charset=\"utf-8\" /></head>\n",
              "<body>\n",
              "    <div>            <script src=\"https://cdnjs.cloudflare.com/ajax/libs/mathjax/2.7.5/MathJax.js?config=TeX-AMS-MML_SVG\"></script><script type=\"text/javascript\">if (window.MathJax && window.MathJax.Hub && window.MathJax.Hub.Config) {window.MathJax.Hub.Config({SVG: {font: \"STIX-Web\"}});}</script>                <script type=\"text/javascript\">window.PlotlyConfig = {MathJaxConfig: 'local'};</script>\n",
              "        <script charset=\"utf-8\" src=\"https://cdn.plot.ly/plotly-2.24.1.min.js\"></script>                <div id=\"8d92ff5c-5630-4b09-a14c-d8d7a1981c20\" class=\"plotly-graph-div\" style=\"height:525px; width:800px;\"></div>            <script type=\"text/javascript\">                                    window.PLOTLYENV=window.PLOTLYENV || {};                                    if (document.getElementById(\"8d92ff5c-5630-4b09-a14c-d8d7a1981c20\")) {                    Plotly.newPlot(                        \"8d92ff5c-5630-4b09-a14c-d8d7a1981c20\",                        [{\"alignmentgroup\":\"True\",\"bingroup\":\"x\",\"hovertemplate\":\"error=%{x}\\u003cbr\\u003ecount=%{y}\\u003cextra\\u003e\\u003c\\u002fextra\\u003e\",\"legendgroup\":\"\",\"marker\":{\"color\":\"#636efa\",\"pattern\":{\"shape\":\"\"}},\"name\":\"\",\"nbinsx\":50,\"offsetgroup\":\"\",\"orientation\":\"v\",\"showlegend\":false,\"x\":[-6.121565108530234,2.726933911524327,4.3074080719970596,-10.189800566798496,-10.360924578942232,-1.4237846148956521,10.807026440005771,-15.089037880328675,-14.319558767568253,0.033260757949534536,8.793942878175983,-13.193482923922268,-3.564233861558705,-14.234373367039893,20.889101329088433,4.261514340627016,16.065071852380797,12.025300744450306,-7.111987733810935,-12.818563359704925,-12.499981119649263,-21.10284369362556,10.956744948659761,-11.74133304224398,-19.514608809532987,24.27180723059317,-6.945301631336463,-15.559650143189785,-1.4796412623469735,10.01787302337641,8.11670116769018,-10.841294954996911,10.330679348091309,-4.667630205297925,16.090095616498786,-16.576332953472914,1.412170754937648,-17.732168328545043,-2.6465939177657702,-6.729450744231741,-0.14087701108925899,-12.71628162866405,-4.85219566550397,1.617830006738913,-12.400951363898983,0.5946227617430537,6.428915972589223,-1.5255578930642173,11.61004743104148,-15.591105953802838,-12.829874053791215,23.22072772537645,8.814994794196764,7.880229799303834,-14.187577144749582,8.188180042888916,2.777264326291288,1.4880859851474924,-3.128358655764316,-4.342371912482321,-22.52721391339776,-2.3626206392085862,10.699150228952092,-7.372039030871505,14.743574948509306,15.860601439042838,-18.43493411818507,-2.246693971542541,-21.689446779493323,-3.8030399029839685,-4.120606672480164,-15.392284830536525,3.3284801041547922,-7.741767034331204,16.956948225636253,-3.9403246513062697,2.5470118804375943,-4.571063815374316,-3.5958626033568635,11.389171855026675,3.2099343410103387,-7.736632297580371,-6.679201138862851,-5.006477176206289,-8.204555451704437,-7.278839989929708,2.7401759086301354,-5.674686518856092,6.063425594242574,-16.796715604389064,-5.98842683184435,4.107253945735806,-30.613240979936265,2.8361868208812098,-13.776252162522269,16.901020473924333,26.110505172565837,-0.7450733897268123,-10.222341714242603,-2.398689753062044,-4.960971821464824,12.416102464577236,-19.145546028718158,5.85432010052466,-3.3628759274952387,11.954832159725918,-4.387390335264797,-9.866999709728915,0.29367961292543043,-13.486099988622982,-4.769186956117373,-0.7057880778517358,-4.381600610501096,12.27721719060851,-1.7219859148084424,-4.00546188496871,-9.80638647217927,-3.4918762463614,-13.451843807595168,11.250146058011467,-13.599814399457472,17.031746052182214,17.224247272645428,8.606578341465706,-1.021194740470051,-2.2239805206082295,8.652240467519832,-2.5607027851120705,2.8129367470326514,-6.27267459934022,-11.54186206239985,-7.1400901022666545,11.382445565167714,6.286059577445613,5.1816753450344635,10.154397194153944,-19.447314510263467,-6.104129186415278,-2.8821939677852697,-7.811206888030583,3.6452315711719194,15.519719951281857,18.059203663633966,-6.506733215325781,-13.84759709269234,-8.876148284884096,-5.654487386422929,-21.243630669639984,13.27788955030502,5.204019361229911,-1.4614290072374416,-11.178264991006742,-4.368279626366601,15.88070492257284,12.813008045523688,-13.222890528475958,-14.626240193517177,-7.191869834298728,13.400145628846985,-3.326846725698857,3.0465405177201887,2.3073613731054223,-0.6120411218471418,14.881422445085391,-21.291143683777264,0.718874682920017,-3.806739287406458,2.3133946779522176,-5.491719435016641,5.77972921621253,-1.4834729344827906,-3.998854581144073,14.659396148860836,-5.478975006829401,-0.28451641415770723,10.10132707162623,-3.8447776076916256,-11.658625278526586,-3.342372054231319,-9.422634290388274,-14.943483160902659,1.67108358504737,12.287407900690141,-13.80451435902117,-1.8069580339446816,-15.30875687251691,15.043662257506867,8.01999486383302,-13.899162092494166,-4.965254252734752,3.265536794400205,-6.306084294259421,0.43715124400615935,-1.0172329870789838,4.047344702426784,-9.54921939902701,2.38391365754741,-12.12100068375932,1.472706045900253,-10.941332387029632,18.73405320190996,22.80507006465219,2.7216337594447424,-15.34308117217877,7.78808972483921,5.1943646647035,10.924367802486685,6.730222677447387,8.92928109571021,4.372621798359958,9.8399823404648,-9.881743795236204,-1.143952531578364,0.796151840690527,-2.4588824829529443,-9.585013385877247,-6.384937992328474,-1.2932005609983435,-0.66059566810506,-10.218315022348776,4.804336223625825,0.45967061753626126,-4.328748676433889,-1.942827474168439,7.22104457376075,-1.9284934051856766,-12.72440686410495,-8.20560674932446,10.397882508617755,-11.157462382170664,13.570977225293547,-14.587947724370451,-21.5215967900167,2.2681645560255106,4.421482432413669,-8.1598347357819,-10.188168218714395,-1.7200375297588408,3.3908766719143557,-10.536856278715248,-9.305173715196446,-7.40493580968689,-0.9670644970024398,10.14136647416062,-13.510722737150957,-6.461286211484065,-0.3767175980130162,1.186894973310757,-0.6994510915651517,-11.375641857134084,2.3865907386729646,4.130192496657202,16.46567721156974,3.7479761411187837,13.887255764886163,9.449761178298345,8.36465884484059,1.8744066344638384,-6.857272747529123,3.640153151114376,4.335464057605066,-16.079533680517883,-7.4073674915769345,14.254760365895102,-5.161632178635259,12.412850482563883,-17.777746238126667,-7.055774576900731,14.316495979927424,5.664657503987158,3.8477781955004673,8.47452197070217,21.53007988278935,-3.8230701344682956,-6.2613246968913785,-0.9529069417076954,-13.252814054183574,-6.091756208546755,15.855019130440994,-6.93150107386235,6.023662862135197,10.024042052863564,-10.378997598982863,5.888249970636053,-2.1188858119996894,12.643798701735975,8.53373838271061,23.06943008400407,3.000124706277859,-0.2175776477388638,-0.7153108283312264,-1.9578023885639055,-14.989807840457246,-0.1056142967222371,24.96841541508384,-4.53852434589237,-24.575056124688402,-15.089107096074883,-9.171083255077306,-10.645086115354687,-14.447125434477016,-10.287864199662692,1.3610880561136014,-5.220194758130376,-12.45272341323519,4.4555239929975485,-6.564562861888746,-0.7031172172564197,0.6986251330289974,-2.0480058394643095,3.3369581672400557,9.279037270471974,1.1184590877887288,1.5438614125122143,2.34430763809911,-2.8317745344742775,5.2281957109903345,6.381162328639903,7.6390504490869375,-4.509173494895933,31.382602990117327,-4.0232512163617145,-20.89059822755908,7.811588970401459,-4.692937643336435,-8.81220720554434,-3.152791203034667,-8.259003514456296,-16.141059676284385,-1.3205683842455471,15.913015717112003,-18.643270036704692,-5.73050213953924,5.818778535494715,-14.86832261696945,0.865329756463467,8.025921279196226,-4.53645637965802,0.14357972456060963,-11.175184733619972,-11.78304012060218,2.805389345801146,6.775493140392044,-10.568434277136674,-1.686917717361382,-0.9436984244568549,-6.939920486041132,2.39694838383015,5.627359946415993,3.7231843829872417,6.398733026861464,-3.8308624481684035,5.038398160315282,3.609344906900361,5.504661828570505,-3.9216577034880373,4.431087330276355,6.322901967935579,-10.755386788731528,-4.091625948738667,1.118189974616925,-1.57233459698233,14.997146421236778,2.1942617845827357,6.706479983865464,-8.252976793862985,0.03691251323122913,3.585732023707294,-13.445682422790128,-7.935153364450585,20.207588258932418,23.213758296978924,-10.856853328256662,7.275908707809407,2.6534223457809247,-3.3635177239791005,-0.2956489311806223,7.130420716228997,-1.7453917319663503,-10.020995648331962,-3.032459679434311,-4.493974055248515,5.658351054499221,-26.680093605169432,-19.754578062172357,-0.02185321547980834,-17.13282402552359,9.78141644346907,-10.891652932138882,-17.995900022162076,12.570118855030202,-2.8967068915873426,-2.4015652346496523,-1.6447268262395909,13.388305869341842,3.187742793922091,-17.7417583470813,6.148272886934478,-2.5158407044025495,6.4636096530501845,-14.626258887436293,9.462254961166309,-8.615248019599605,-5.77879694984594,3.1643875080267634,-1.6406850479674944,-0.7361298023934779,-16.208468074345177,-7.889379350607257,4.19117711713379,20.841374363208473,15.093968791591038,-3.4729991230017134,2.493204033540451,17.27904310857481,-6.753776078080804,6.112536551973278,-2.846006518937344,8.65018917004906,-10.114090019036283,2.754897047231921,7.15860334675132,0.05515426402489254,9.354332868671321,-7.149782184254278,-1.7503024571415864,3.038901571042487,8.910153932675684,-3.5974074279918256,-1.2600658029739975,-2.754439107798788,-22.906715342372337,3.5331937307339274,-4.545603341491969,-1.9533544437832546,1.1417182184954981,-9.194414888297558,23.20493386681168,-9.350801089525092,4.563351019408103,-9.197435264611542,16.10670878568917,-1.796569802907328,-8.512191171157554,-17.560379946745456,-1.1197404506502764,-13.390517033115415,2.927190331810678,-19.880462708960238,-0.05699794824980131,-18.80081736871864,-0.7813348288714081,-11.647783869050699,8.863269275859949,11.866192994860185,-3.0438930520604686,-12.781982769981695,1.522920522473214,-10.94234112685119,-2.655585730832968,-2.185544968036524,-7.500867670661975,1.227482635310551,4.250962642954818,13.03029009668903,16.318941964489724,2.5185450104502536,-3.7839282068066495,-7.5484062684379865,-3.425128156501472,-19.84656376563977,3.843534825903731,-10.726699911081013,-12.798318643020693,-12.180540465587967,4.16113505382863,0.7858817229434152,2.759151092882391,3.1905953339147857,9.522754979955707,2.487647252533506,-0.6557216087200715,-7.171138181098442,0.2624422939257016,0.21487386540782438,-9.340394542994076,12.780161372113952,5.204828117499403,-12.165905459827684,-17.27068894184022,6.401474440378749,-17.623693558922767,-2.7985984681893115,-6.871229098798864,4.638427584321775,-5.572153611371078,3.5936236013832286,17.63864594421014,4.4704450970221785,3.2598741440275347,11.980559999035634,3.1440985013958027,17.836449059042337,-1.5020842292126133,-1.4102864448867933,4.886622557522429,-3.6060692766957203,-6.089371532721572,-4.295580015434496,-6.130873004568514,6.714806927332631,1.4930230307594599,14.081829606798436,1.2625939061943257,-3.8635544618875883,-0.8115472816904941,8.253502267345212,-0.4782729190998509,-8.519436703887223,-22.297145890517697,19.769508669696535,-10.73672663105809,-3.559920695207907,-12.90279753070027,1.9218481825627407,8.893226699227114,-4.696123130997691,-14.5299247778553,-16.030679855378054,-16.77303604332137,-5.784866807903725,0.787368879804518,-5.278819590901193,-0.3527732757348332,-8.140424340588481,-12.653031876821728,1.7549443637366124,-1.9868726521159772,10.581426809679357,3.927192058006028,13.260425768153908,-11.046660640800326,5.451790315711094,-7.710938595288184,-2.6921118268685262,-0.10826156618864502,5.261090884608521,0.8950599666033412,8.098970353827752,8.762382105774918,-3.959443600103654,-10.220324783726213,-2.797808168674294,-9.959054787459479,11.168060842822136,8.734457485711502,-7.755568919868097,-1.501757107670926,-19.42017422672319,-8.80243918591907,-3.131366291746744,-0.03497146005888396,-0.8526340458945896,7.803281251666235,-5.3688551779668785,-6.608400138535671,-7.9269990248096605,1.529378421740759,5.096002109041152,15.606151846977369,-5.427533244890313,-5.055131337899553,18.278298463833266,11.895655737533232,14.997964939322927,5.551600975956404,0.6656972253083353,5.192367581803396,14.049699587445588,-2.704862019828397,-0.31708086997130636,-1.1206179596111383,-2.479050027602085,11.383081826642822,3.396859950986425,2.2293178990352303,4.61678661569988,9.121607809282068,-2.869515669705308,-7.28886782938001,-0.24001967172827676,-21.185812717444634,-13.49546738507874,-6.345717952162971,9.92982471362778,-3.6712327374102784,2.383452944849907,10.253484974508481,3.9828534811133522,17.760653687265894,6.181904798868985,-6.765250640111745,9.336796900782147,-4.833595377250802,-2.3235751456272737,-4.966086600463285,6.199138447224456,2.269321610068147,-12.192121505949117,-1.1206809532723554,-1.4374359575796518,-7.223295701500689,18.999410958648582,-4.2260767354481175,-7.575910553660165,-3.6536055271814973,14.124456446469189,16.118112215159456,-14.150829085005,-15.048412030866885,1.7394482040765524,-8.283191102799805,-4.172595793319445,-1.5247361931283052,-6.17331271768299,1.1197187527169348,15.113759846326104,-6.183398747919114,18.58560766873525,-20.976148580851103,-8.843821312129691,-1.472295500012791,-8.588616519849651,7.608265599177457,-2.7692375060962604,-11.73345207761615,8.181244139543622,1.6432892291522307,-18.926905700148524,-12.800943377147007,-16.02142445442604,1.0263798236301085,-0.03756595718820677,-8.67262668787086,15.528817285992304,6.6135078709711195,9.470924858642064,1.6961737419911316,-1.6947438448469967,2.4695322047791137,-6.829433562199924,-2.3911478231302965,5.863253732928072,-21.669806957762518,10.436400150040328,6.1960741419280225,-8.292197640936962,9.19096562184231,13.411882286176422,-2.035309615811471,10.113306074229811,9.334270517530229,12.399806614586595,-3.920405486281652,-9.62440307433242,0.8301940167146,5.7533699439281065,4.379888132910224,-2.9560580633567355,10.73699826955422,3.298995323894701,8.39455746717124,-5.646007292164825,-1.0076203560285535,-9.590418158934682,11.454553883928696,23.305146491764845,7.7014489405766255,-14.278266665941743,8.359339198114938,-13.282957352242647,-14.803106229056738,-8.833448627677939,5.84692833281099,3.560239515041289,2.081175736570927,-11.172023141514643,19.18060572539298,5.035154844903374,2.5053412987747663,-4.004294072625299,4.627568226187478,23.349434096451255,0.3679872865724363,-16.964555135176056,8.712784116017986,-8.512477120091873,-11.540048362432358,4.6275161790988335,4.235617452276998,-11.744494092588198,1.9549808441021526,10.810263158716651,-2.2039160904594723,7.273787123507503,-9.819274986104247,10.500746656215313,10.1128635274967,-5.571761268503252,2.0542557722073695,-8.798110791093592,-8.84491308556018,15.65238965016583,0.854488547140889,17.727290138363898,-4.252113508953968,-2.9063095321686205,7.903088927912094,-0.7168443829200442,12.656978562998475,-6.3238709288762465,-3.9188561472799677,-6.282234500595905,-16.368320762976907,3.8006712732394305,0.48479436852787217,-10.508302878555014,8.821479268802449,11.712436438411913,26.389175765274132,2.9549481084277005,-0.10705796779490129,-5.865083938716182,-3.2166079631106896,12.043697144999001,-0.8042051302489028,8.786924104554473,-11.42934287146096,0.8017964614542734,-1.8326004063710002,12.501385200486169,25.416095607470638,12.765116197180731,-1.0616626346225928,0.6047271362966598,0.5736458726497915,1.3375378270428513,-4.465205415494566,2.9556827388726816,-1.8426780198225146,9.15459483820419,-2.7430698707735672,-0.9161245430987606,-11.438456560225276,2.4447753458745325,-8.925653035530402,-6.656662848510393,8.16707094476645,-10.949139594833355,12.576096477835648,-15.158895439829877,-0.6136867098680625,10.104799641958877,-13.03851393928231,-0.14574277098409993,-5.250478723502084,-8.286196978789135,9.608475320124853,-9.510773522382195,3.98285234548527,12.025833848422124,14.038180535539269,-2.486735071845956,9.754391557155117,-0.25550609752532694,-5.153912144930345,12.803160174780004,3.0061814799922075,5.395975925225059,-20.389505066227358,8.383515303713509,-3.973818360936974,1.6387710408505995,9.440174795643756,-10.354012370924039,-6.9796092508003795,-9.541732668346157,-23.585580961814927,4.624109162718369,4.313091424433168,1.4366404871044836,-2.961664083389749,1.7494870072688826,5.163337276347377,22.664541403292176,-4.851894291836288,-5.0373427297943465,10.103117654467397,12.180496904338725,-1.4623315579168263,4.621615018493102,-4.832395820933698,1.055397448094098,-5.4550343789015585,-4.88399825285336,-1.9126865278085319,3.5470512273311527,16.829433982060664,6.462754956928222,-22.141312127733826,-15.648042596138737,-2.524527923345943,16.121958971649633,3.18102623560803,-9.398326496648963,23.124648761548514,-0.24704748342557536,-11.256390287695538,-6.903993590751682,-2.2408133982960408,-19.147340736645518,-6.675344997153246,-2.8752786207507057,24.184107735607128,4.04798893723175,23.440774053087807,-5.911548107777236,-1.9535011182865958,4.2168089882748205,-12.096834684990696,12.438369962042884,-10.191746560770511,10.715390145570808,-5.491850814417489,-13.453334393933503,-10.448310376977346,-6.411782577819835,-6.926112238495449,-12.893073674990376,-14.672073000763476,-13.541176507286792,9.848704310950083,-16.780836995000726,-4.725044337934747,-10.635852198900622,8.453735390159508,9.135501513372404,11.945691794772742,9.75413188043639,-3.6643559345098566,5.517295921566301,-1.1556195278139114,-17.05148116670817,-1.9116472260501354,2.166951833514986,-12.953383172597796,10.942669428432708,7.04788945750164,5.917586186554331,-5.7192387313800594,-11.146082627677856,11.216694941276032,7.709746476157676,-21.246751827375206,9.939291713610999,-1.456294817921986,4.294544203223722,14.597883369016131,-13.348238966042487,3.110387122627941,-11.710937838607194,4.070235162093908,2.978719814629926,12.173470989070026,-8.721691084225071,18.037637669796737,-4.072132383934147,-16.54976253157136,2.96815021688964,1.4115573291605443,-0.9736834636373857,-0.822341142306243,1.731591663729688,-10.145855831336817,24.642255292253097,2.455734607819764,-7.483429968691624,9.936734713026453,-14.471665279114575,-4.062231199776534,3.3253433453980676,-9.085569102611302,-11.023151632351315,-0.6055052852401275,-7.990433182030955,-0.6976468118585473,3.808243811350451,-3.605925435473303,9.24171458246363,7.649170471689899,-5.559882722591283,9.75271071603467,-9.19411937127451,5.206057482828527,6.843159852466357,-23.249804686750522,-5.672678674639329,-12.768241178544216,6.922310178895103,-1.7553778384094016,-5.9502559873334775,-23.501176708465067,0.20486872325710692,-14.838383305511044,-7.1514526061264405,-7.322030218215403,9.225613549756432,-20.757245767804406,-1.2314255004053507,-2.178080655150268,3.5531281836556587,14.368812951772398,7.629092588156524,8.99602303457894,2.4268420846717476,-2.8379658869833406,6.0805290267979615,0.8323710660713033,-13.9541922094173,0.6342223150679303,-14.366419295540695,2.631067821897844,6.323916012596925,-11.542488889537836,-14.41553827149309,12.616934417270983,-1.5080348773622632,-1.9578206599722847,6.090742227390336,-19.968009484013976,-20.703894599904572,-3.6870018473461244,-2.034631151770327,1.4810327012502142,10.112665634199146,-9.134261051775098,-1.6914647495283504,-7.941012898640864,9.920395667616148,-11.160252433455724,-15.887852598360041,14.102649060612038,4.613371188775361,15.498173230779983,-1.8677275395395725,-6.212729549168813,6.6049356514706545,8.60741303919886,-13.181012131081445,-9.998042144983842,1.5139796526337932,-3.914205017603763,7.467509060986174,-4.6412794375068245,8.478704210457451,3.363654063298469,0.963503374630875,-6.8786032583725785,-7.104647210719378,19.840842070672693,14.087211878144444,-8.786100900575093,0.2741550948802427,5.8141906680066455,-4.121686385131881,6.011973174898813,-9.25906069771814,-9.015291322182051,-4.837264191019692,6.246795457349691,-23.991389272706854,-6.543163306429818,21.58159716128162,0.5256026241908387,-11.979122105295005,-14.175291486774029,17.479522442202295,-14.111259693938365,-0.34092255042252617,2.013075588006572,-0.834646932454902,-10.966600353965788,-15.313487033373704,27.21915683761732,9.382250923687408,8.648274734360854,-2.0799726910906884,-4.09936759520582,2.102946241194502,-7.894348887811518],\"xaxis\":\"x\",\"yaxis\":\"y\",\"type\":\"histogram\"}],                        {\"template\":{\"data\":{\"histogram2dcontour\":[{\"type\":\"histogram2dcontour\",\"colorbar\":{\"outlinewidth\":0,\"ticks\":\"\"},\"colorscale\":[[0.0,\"#0d0887\"],[0.1111111111111111,\"#46039f\"],[0.2222222222222222,\"#7201a8\"],[0.3333333333333333,\"#9c179e\"],[0.4444444444444444,\"#bd3786\"],[0.5555555555555556,\"#d8576b\"],[0.6666666666666666,\"#ed7953\"],[0.7777777777777778,\"#fb9f3a\"],[0.8888888888888888,\"#fdca26\"],[1.0,\"#f0f921\"]]}],\"choropleth\":[{\"type\":\"choropleth\",\"colorbar\":{\"outlinewidth\":0,\"ticks\":\"\"}}],\"histogram2d\":[{\"type\":\"histogram2d\",\"colorbar\":{\"outlinewidth\":0,\"ticks\":\"\"},\"colorscale\":[[0.0,\"#0d0887\"],[0.1111111111111111,\"#46039f\"],[0.2222222222222222,\"#7201a8\"],[0.3333333333333333,\"#9c179e\"],[0.4444444444444444,\"#bd3786\"],[0.5555555555555556,\"#d8576b\"],[0.6666666666666666,\"#ed7953\"],[0.7777777777777778,\"#fb9f3a\"],[0.8888888888888888,\"#fdca26\"],[1.0,\"#f0f921\"]]}],\"heatmap\":[{\"type\":\"heatmap\",\"colorbar\":{\"outlinewidth\":0,\"ticks\":\"\"},\"colorscale\":[[0.0,\"#0d0887\"],[0.1111111111111111,\"#46039f\"],[0.2222222222222222,\"#7201a8\"],[0.3333333333333333,\"#9c179e\"],[0.4444444444444444,\"#bd3786\"],[0.5555555555555556,\"#d8576b\"],[0.6666666666666666,\"#ed7953\"],[0.7777777777777778,\"#fb9f3a\"],[0.8888888888888888,\"#fdca26\"],[1.0,\"#f0f921\"]]}],\"heatmapgl\":[{\"type\":\"heatmapgl\",\"colorbar\":{\"outlinewidth\":0,\"ticks\":\"\"},\"colorscale\":[[0.0,\"#0d0887\"],[0.1111111111111111,\"#46039f\"],[0.2222222222222222,\"#7201a8\"],[0.3333333333333333,\"#9c179e\"],[0.4444444444444444,\"#bd3786\"],[0.5555555555555556,\"#d8576b\"],[0.6666666666666666,\"#ed7953\"],[0.7777777777777778,\"#fb9f3a\"],[0.8888888888888888,\"#fdca26\"],[1.0,\"#f0f921\"]]}],\"contourcarpet\":[{\"type\":\"contourcarpet\",\"colorbar\":{\"outlinewidth\":0,\"ticks\":\"\"}}],\"contour\":[{\"type\":\"contour\",\"colorbar\":{\"outlinewidth\":0,\"ticks\":\"\"},\"colorscale\":[[0.0,\"#0d0887\"],[0.1111111111111111,\"#46039f\"],[0.2222222222222222,\"#7201a8\"],[0.3333333333333333,\"#9c179e\"],[0.4444444444444444,\"#bd3786\"],[0.5555555555555556,\"#d8576b\"],[0.6666666666666666,\"#ed7953\"],[0.7777777777777778,\"#fb9f3a\"],[0.8888888888888888,\"#fdca26\"],[1.0,\"#f0f921\"]]}],\"surface\":[{\"type\":\"surface\",\"colorbar\":{\"outlinewidth\":0,\"ticks\":\"\"},\"colorscale\":[[0.0,\"#0d0887\"],[0.1111111111111111,\"#46039f\"],[0.2222222222222222,\"#7201a8\"],[0.3333333333333333,\"#9c179e\"],[0.4444444444444444,\"#bd3786\"],[0.5555555555555556,\"#d8576b\"],[0.6666666666666666,\"#ed7953\"],[0.7777777777777778,\"#fb9f3a\"],[0.8888888888888888,\"#fdca26\"],[1.0,\"#f0f921\"]]}],\"mesh3d\":[{\"type\":\"mesh3d\",\"colorbar\":{\"outlinewidth\":0,\"ticks\":\"\"}}],\"scatter\":[{\"fillpattern\":{\"fillmode\":\"overlay\",\"size\":10,\"solidity\":0.2},\"type\":\"scatter\"}],\"parcoords\":[{\"type\":\"parcoords\",\"line\":{\"colorbar\":{\"outlinewidth\":0,\"ticks\":\"\"}}}],\"scatterpolargl\":[{\"type\":\"scatterpolargl\",\"marker\":{\"colorbar\":{\"outlinewidth\":0,\"ticks\":\"\"}}}],\"bar\":[{\"error_x\":{\"color\":\"#2a3f5f\"},\"error_y\":{\"color\":\"#2a3f5f\"},\"marker\":{\"line\":{\"color\":\"#E5ECF6\",\"width\":0.5},\"pattern\":{\"fillmode\":\"overlay\",\"size\":10,\"solidity\":0.2}},\"type\":\"bar\"}],\"scattergeo\":[{\"type\":\"scattergeo\",\"marker\":{\"colorbar\":{\"outlinewidth\":0,\"ticks\":\"\"}}}],\"scatterpolar\":[{\"type\":\"scatterpolar\",\"marker\":{\"colorbar\":{\"outlinewidth\":0,\"ticks\":\"\"}}}],\"histogram\":[{\"marker\":{\"pattern\":{\"fillmode\":\"overlay\",\"size\":10,\"solidity\":0.2}},\"type\":\"histogram\"}],\"scattergl\":[{\"type\":\"scattergl\",\"marker\":{\"colorbar\":{\"outlinewidth\":0,\"ticks\":\"\"}}}],\"scatter3d\":[{\"type\":\"scatter3d\",\"line\":{\"colorbar\":{\"outlinewidth\":0,\"ticks\":\"\"}},\"marker\":{\"colorbar\":{\"outlinewidth\":0,\"ticks\":\"\"}}}],\"scattermapbox\":[{\"type\":\"scattermapbox\",\"marker\":{\"colorbar\":{\"outlinewidth\":0,\"ticks\":\"\"}}}],\"scatterternary\":[{\"type\":\"scatterternary\",\"marker\":{\"colorbar\":{\"outlinewidth\":0,\"ticks\":\"\"}}}],\"scattercarpet\":[{\"type\":\"scattercarpet\",\"marker\":{\"colorbar\":{\"outlinewidth\":0,\"ticks\":\"\"}}}],\"carpet\":[{\"aaxis\":{\"endlinecolor\":\"#2a3f5f\",\"gridcolor\":\"white\",\"linecolor\":\"white\",\"minorgridcolor\":\"white\",\"startlinecolor\":\"#2a3f5f\"},\"baxis\":{\"endlinecolor\":\"#2a3f5f\",\"gridcolor\":\"white\",\"linecolor\":\"white\",\"minorgridcolor\":\"white\",\"startlinecolor\":\"#2a3f5f\"},\"type\":\"carpet\"}],\"table\":[{\"cells\":{\"fill\":{\"color\":\"#EBF0F8\"},\"line\":{\"color\":\"white\"}},\"header\":{\"fill\":{\"color\":\"#C8D4E3\"},\"line\":{\"color\":\"white\"}},\"type\":\"table\"}],\"barpolar\":[{\"marker\":{\"line\":{\"color\":\"#E5ECF6\",\"width\":0.5},\"pattern\":{\"fillmode\":\"overlay\",\"size\":10,\"solidity\":0.2}},\"type\":\"barpolar\"}],\"pie\":[{\"automargin\":true,\"type\":\"pie\"}]},\"layout\":{\"autotypenumbers\":\"strict\",\"colorway\":[\"#636efa\",\"#EF553B\",\"#00cc96\",\"#ab63fa\",\"#FFA15A\",\"#19d3f3\",\"#FF6692\",\"#B6E880\",\"#FF97FF\",\"#FECB52\"],\"font\":{\"color\":\"#2a3f5f\"},\"hovermode\":\"closest\",\"hoverlabel\":{\"align\":\"left\"},\"paper_bgcolor\":\"white\",\"plot_bgcolor\":\"#E5ECF6\",\"polar\":{\"bgcolor\":\"#E5ECF6\",\"angularaxis\":{\"gridcolor\":\"white\",\"linecolor\":\"white\",\"ticks\":\"\"},\"radialaxis\":{\"gridcolor\":\"white\",\"linecolor\":\"white\",\"ticks\":\"\"}},\"ternary\":{\"bgcolor\":\"#E5ECF6\",\"aaxis\":{\"gridcolor\":\"white\",\"linecolor\":\"white\",\"ticks\":\"\"},\"baxis\":{\"gridcolor\":\"white\",\"linecolor\":\"white\",\"ticks\":\"\"},\"caxis\":{\"gridcolor\":\"white\",\"linecolor\":\"white\",\"ticks\":\"\"}},\"coloraxis\":{\"colorbar\":{\"outlinewidth\":0,\"ticks\":\"\"}},\"colorscale\":{\"sequential\":[[0.0,\"#0d0887\"],[0.1111111111111111,\"#46039f\"],[0.2222222222222222,\"#7201a8\"],[0.3333333333333333,\"#9c179e\"],[0.4444444444444444,\"#bd3786\"],[0.5555555555555556,\"#d8576b\"],[0.6666666666666666,\"#ed7953\"],[0.7777777777777778,\"#fb9f3a\"],[0.8888888888888888,\"#fdca26\"],[1.0,\"#f0f921\"]],\"sequentialminus\":[[0.0,\"#0d0887\"],[0.1111111111111111,\"#46039f\"],[0.2222222222222222,\"#7201a8\"],[0.3333333333333333,\"#9c179e\"],[0.4444444444444444,\"#bd3786\"],[0.5555555555555556,\"#d8576b\"],[0.6666666666666666,\"#ed7953\"],[0.7777777777777778,\"#fb9f3a\"],[0.8888888888888888,\"#fdca26\"],[1.0,\"#f0f921\"]],\"diverging\":[[0,\"#8e0152\"],[0.1,\"#c51b7d\"],[0.2,\"#de77ae\"],[0.3,\"#f1b6da\"],[0.4,\"#fde0ef\"],[0.5,\"#f7f7f7\"],[0.6,\"#e6f5d0\"],[0.7,\"#b8e186\"],[0.8,\"#7fbc41\"],[0.9,\"#4d9221\"],[1,\"#276419\"]]},\"xaxis\":{\"gridcolor\":\"white\",\"linecolor\":\"white\",\"ticks\":\"\",\"title\":{\"standoff\":15},\"zerolinecolor\":\"white\",\"automargin\":true,\"zerolinewidth\":2},\"yaxis\":{\"gridcolor\":\"white\",\"linecolor\":\"white\",\"ticks\":\"\",\"title\":{\"standoff\":15},\"zerolinecolor\":\"white\",\"automargin\":true,\"zerolinewidth\":2},\"scene\":{\"xaxis\":{\"backgroundcolor\":\"#E5ECF6\",\"gridcolor\":\"white\",\"linecolor\":\"white\",\"showbackground\":true,\"ticks\":\"\",\"zerolinecolor\":\"white\",\"gridwidth\":2},\"yaxis\":{\"backgroundcolor\":\"#E5ECF6\",\"gridcolor\":\"white\",\"linecolor\":\"white\",\"showbackground\":true,\"ticks\":\"\",\"zerolinecolor\":\"white\",\"gridwidth\":2},\"zaxis\":{\"backgroundcolor\":\"#E5ECF6\",\"gridcolor\":\"white\",\"linecolor\":\"white\",\"showbackground\":true,\"ticks\":\"\",\"zerolinecolor\":\"white\",\"gridwidth\":2}},\"shapedefaults\":{\"line\":{\"color\":\"#2a3f5f\"}},\"annotationdefaults\":{\"arrowcolor\":\"#2a3f5f\",\"arrowhead\":0,\"arrowwidth\":1},\"geo\":{\"bgcolor\":\"white\",\"landcolor\":\"#E5ECF6\",\"subunitcolor\":\"white\",\"showland\":true,\"showlakes\":true,\"lakecolor\":\"white\"},\"title\":{\"x\":0.05},\"mapbox\":{\"style\":\"light\"}}},\"xaxis\":{\"anchor\":\"y\",\"domain\":[0.0,1.0],\"title\":{\"text\":\"error\"}},\"yaxis\":{\"anchor\":\"x\",\"domain\":[0.0,1.0],\"title\":{\"text\":\"count\"}},\"legend\":{\"tracegroupgap\":0},\"margin\":{\"t\":60},\"barmode\":\"relative\",\"width\":800},                        {\"responsive\": true}                    ).then(function(){\n",
              "                            \n",
              "var gd = document.getElementById('8d92ff5c-5630-4b09-a14c-d8d7a1981c20');\n",
              "var x = new MutationObserver(function (mutations, observer) {{\n",
              "        var display = window.getComputedStyle(gd).display;\n",
              "        if (!display || display === 'none') {{\n",
              "            console.log([gd, 'removed!']);\n",
              "            Plotly.purge(gd);\n",
              "            observer.disconnect();\n",
              "        }}\n",
              "}});\n",
              "\n",
              "// Listen for the removal of the full notebook cells\n",
              "var notebookContainer = gd.closest('#notebook-container');\n",
              "if (notebookContainer) {{\n",
              "    x.observe(notebookContainer, {childList: true});\n",
              "}}\n",
              "\n",
              "// Listen for the clearing of the current output cell\n",
              "var outputEl = gd.closest('.output');\n",
              "if (outputEl) {{\n",
              "    x.observe(outputEl, {childList: true});\n",
              "}}\n",
              "\n",
              "                        })                };                            </script>        </div>\n",
              "</body>\n",
              "</html>"
            ]
          },
          "metadata": {}
        }
      ]
    },
    {
      "cell_type": "markdown",
      "metadata": {
        "id": "ZVr1O1j3FFiM"
      },
      "source": [
        "### <a name='a3'></a> Mean Absolute Error - Średni błąd bezwzględny\n",
        "### $$MAE = \\frac{1}{n}\\sum_{i=1}^{n}|y_{true} - y_{pred}|$$"
      ]
    },
    {
      "cell_type": "code",
      "metadata": {
        "id": "4fwXpVNyFXBl",
        "outputId": "7c3a1c66-1dc8-4c28-dffd-d58831f7ce53",
        "colab": {
          "base_uri": "https://localhost:8080/"
        }
      },
      "source": [
        "def mean_absolute_error(y_true, y_pred):\n",
        "    return abs(y_true - y_pred).sum() / len(y_true)\n",
        "\n",
        "mean_absolute_error(y_true, y_pred)"
      ],
      "execution_count": 12,
      "outputs": [
        {
          "output_type": "execute_result",
          "data": {
            "text/plain": [
              "8.017463153866377"
            ]
          },
          "metadata": {},
          "execution_count": 12
        }
      ]
    },
    {
      "cell_type": "code",
      "metadata": {
        "id": "nOINyAyqErWz",
        "outputId": "5c2a2b0d-2b7d-47e4-b447-249f7feb8e21",
        "colab": {
          "base_uri": "https://localhost:8080/"
        }
      },
      "source": [
        "from sklearn.metrics import mean_absolute_error\n",
        "mean_absolute_error(y_true, y_pred)"
      ],
      "execution_count": 13,
      "outputs": [
        {
          "output_type": "execute_result",
          "data": {
            "text/plain": [
              "8.017463153866377"
            ]
          },
          "metadata": {},
          "execution_count": 13
        }
      ]
    },
    {
      "cell_type": "markdown",
      "metadata": {
        "id": "dbAtacGCGjaR"
      },
      "source": [
        "### <a name='a4'></a> Mean Squared Error - MSE - Błąd średniokwadratowy\n",
        "### $$MSE = \\frac{1}{n}\\sum_{i=1}^{n}(y_{true} - y_{pred})^{2}$$"
      ]
    },
    {
      "cell_type": "code",
      "metadata": {
        "id": "rikMpoD9E91I",
        "outputId": "a01e7444-0209-4ee7-adda-39263099b36f",
        "colab": {
          "base_uri": "https://localhost:8080/"
        }
      },
      "source": [
        "def mean_squared_error(y_true, y_pred):\n",
        "    return ((y_true - y_pred) ** 2).sum() / len(y_true)\n",
        "\n",
        "mean_squared_error(y_true, y_pred)"
      ],
      "execution_count": 14,
      "outputs": [
        {
          "output_type": "execute_result",
          "data": {
            "text/plain": [
              "100.13856798493292"
            ]
          },
          "metadata": {},
          "execution_count": 14
        }
      ]
    },
    {
      "cell_type": "code",
      "metadata": {
        "id": "BxQx5HFaGzi5",
        "outputId": "1a58a93c-e1fb-4fa3-f366-5aee0e62ca4c",
        "colab": {
          "base_uri": "https://localhost:8080/"
        }
      },
      "source": [
        "from sklearn.metrics import mean_squared_error\n",
        "\n",
        "mean_squared_error(y_true, y_pred)"
      ],
      "execution_count": 15,
      "outputs": [
        {
          "output_type": "execute_result",
          "data": {
            "text/plain": [
              "100.13856798493292"
            ]
          },
          "metadata": {},
          "execution_count": 15
        }
      ]
    },
    {
      "cell_type": "markdown",
      "metadata": {
        "id": "SKJJg3jNG-xj"
      },
      "source": [
        "### <a name='a5'></a> Root Mean Squared Error - RMSE - Pierwiastek błędu średniokwadratowego\n",
        "### $$RMSE = \\sqrt{MSE}$$"
      ]
    },
    {
      "cell_type": "code",
      "metadata": {
        "id": "ZoEokLM8G8JO",
        "outputId": "1cd27bde-7288-4919-bd8d-ac936cc0c4fb",
        "colab": {
          "base_uri": "https://localhost:8080/"
        }
      },
      "source": [
        "def root_mean_squared_error(y_true, y_pred):\n",
        "    return np.sqrt(((y_true - y_pred) ** 2).sum() / len(y_true))\n",
        "\n",
        "root_mean_squared_error(y_true, y_pred)"
      ],
      "execution_count": 16,
      "outputs": [
        {
          "output_type": "execute_result",
          "data": {
            "text/plain": [
              "10.00692600077231"
            ]
          },
          "metadata": {},
          "execution_count": 16
        }
      ]
    },
    {
      "cell_type": "code",
      "metadata": {
        "id": "VEdgXl5PHdEQ",
        "outputId": "403c9f8c-7455-4d42-a5e1-245eabf3e2d6",
        "colab": {
          "base_uri": "https://localhost:8080/"
        }
      },
      "source": [
        "np.sqrt(mean_squared_error(y_true, y_pred))"
      ],
      "execution_count": 17,
      "outputs": [
        {
          "output_type": "execute_result",
          "data": {
            "text/plain": [
              "10.00692600077231"
            ]
          },
          "metadata": {},
          "execution_count": 17
        }
      ]
    },
    {
      "cell_type": "markdown",
      "metadata": {
        "id": "wzS5t7dzIH-x"
      },
      "source": [
        "### <a name='a6'></a>  Max Error - Błąd maksymalny\n",
        "\n",
        "$$ME = max(|y\\_true - y\\_pred|)$$"
      ]
    },
    {
      "cell_type": "code",
      "metadata": {
        "id": "0v4d3b_FHsYO"
      },
      "source": [
        "def max_error(y_true, y_pred):\n",
        "    return abs(y_true - y_pred).max()"
      ],
      "execution_count": 18,
      "outputs": []
    },
    {
      "cell_type": "code",
      "metadata": {
        "id": "IbSGizXdH1Fc",
        "outputId": "41df1ee9-d46f-4da8-829b-fca71f7de1f8",
        "colab": {
          "base_uri": "https://localhost:8080/"
        }
      },
      "source": [
        "max_error(y_true, y_pred)"
      ],
      "execution_count": 19,
      "outputs": [
        {
          "output_type": "execute_result",
          "data": {
            "text/plain": [
              "31.382602990117327"
            ]
          },
          "metadata": {},
          "execution_count": 19
        }
      ]
    },
    {
      "cell_type": "code",
      "metadata": {
        "id": "NQPVS0cSIAsC",
        "outputId": "d06c80d5-a2ce-49de-c64a-750b86a419df",
        "colab": {
          "base_uri": "https://localhost:8080/"
        }
      },
      "source": [
        "from sklearn.metrics import max_error\n",
        "\n",
        "max_error(y_true, y_pred)"
      ],
      "execution_count": 20,
      "outputs": [
        {
          "output_type": "execute_result",
          "data": {
            "text/plain": [
              "31.382602990117327"
            ]
          },
          "metadata": {},
          "execution_count": 20
        }
      ]
    },
    {
      "cell_type": "markdown",
      "metadata": {
        "id": "xRrH2NA5IYt9"
      },
      "source": [
        "### <a name='a7'></a>  R2 score - współczynnik determinacji\n",
        "### $$R2\\_score = 1 - \\frac{\\sum_{i=1}^{N}(y_{true} - y_{pred})^{2}}{\\sum_{i=1}^{N}(y_{true} - \\overline{y_{true}})^{2}}$$"
      ]
    },
    {
      "cell_type": "code",
      "metadata": {
        "id": "ePP8ovwPIGu0",
        "outputId": "f4466a5b-d73e-421d-e716-31809aeea88d",
        "colab": {
          "base_uri": "https://localhost:8080/"
        }
      },
      "source": [
        "from sklearn.metrics import r2_score\n",
        "\n",
        "r2_score(y_true, y_pred)"
      ],
      "execution_count": 21,
      "outputs": [
        {
          "output_type": "execute_result",
          "data": {
            "text/plain": [
              "0.7480838273806351"
            ]
          },
          "metadata": {},
          "execution_count": 21
        }
      ]
    },
    {
      "cell_type": "code",
      "metadata": {
        "id": "GWtiZRcPIsdP"
      },
      "source": [
        "def r2_score(y_true, y_pred):\n",
        "    numerator = ((y_true - y_pred) ** 2).sum()\n",
        "    denominator = ((y_true - y_true.mean()) ** 2).sum()\n",
        "    try:\n",
        "        r2 = 1 - numerator / denominator\n",
        "    except ZeroDivisionError:\n",
        "        print('Dzielenie przez zero')\n",
        "    return r2"
      ],
      "execution_count": 22,
      "outputs": []
    },
    {
      "cell_type": "code",
      "metadata": {
        "id": "q4LYk_8oJNTP",
        "outputId": "58f6924f-ca7e-40b2-b25c-e090ac90ad09",
        "colab": {
          "base_uri": "https://localhost:8080/"
        }
      },
      "source": [
        "r2_score(y_true, y_pred)"
      ],
      "execution_count": 23,
      "outputs": [
        {
          "output_type": "execute_result",
          "data": {
            "text/plain": [
              "0.7480838273806351"
            ]
          },
          "metadata": {},
          "execution_count": 23
        }
      ]
    },
    {
      "cell_type": "code",
      "metadata": {
        "id": "xuBi36i72dOY"
      },
      "source": [],
      "execution_count": null,
      "outputs": []
    }
  ]
}