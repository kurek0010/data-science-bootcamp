{
  "nbformat": 4,
  "nbformat_minor": 0,
  "metadata": {
    "colab": {
      "name": "03_metryki_regresja.ipynb",
      "provenance": [],
      "include_colab_link": true
    },
    "kernelspec": {
      "name": "python3",
      "display_name": "Python 3"
    }
  },
  "cells": [
    {
      "cell_type": "markdown",
      "metadata": {
        "id": "view-in-github",
        "colab_type": "text"
      },
      "source": [
        "<a href=\"https://colab.research.google.com/github/kurek0010/data-science-bootcamp/blob/main/06_uczenie_maszynowe/03_metryki_regresja.ipynb\" target=\"_parent\"><img src=\"https://colab.research.google.com/assets/colab-badge.svg\" alt=\"Open In Colab\"/></a>"
      ]
    },
    {
      "cell_type": "markdown",
      "metadata": {
        "id": "cVoURqdBJ6Vm"
      },
      "source": [
        "* @author: krakowiakpawel9@gmail.com  \n",
        "* @site: e-smartdata.org"
      ]
    },
    {
      "cell_type": "markdown",
      "metadata": {
        "id": "5gjFu2l9IMsj"
      },
      "source": [
        "### scikit-learn\n",
        ">Strona biblioteki: [https://scikit-learn.org](https://scikit-learn.org)  \n",
        ">\n",
        ">Dokumentacja/User Guide: [https://scikit-learn.org/stable/user_guide.html](https://scikit-learn.org/stable/user_guide.html)\n",
        ">\n",
        ">Podstawowa biblioteka do uczenia maszynowego w języku Python.\n",
        ">\n",
        ">Aby zainstalować bibliotekę scikit-learn, użyj polecenia poniżej:\n",
        "```\n",
        "pip install scikit-learn\n",
        "```\n",
        "\n",
        "### Metryki - Problem regresji:\n",
        "1. [Import bibliotek](#a0)\n",
        "2. [Interpretacja graficzna](#a2)\n",
        "3. [Mean Absolute Error - MAE - Średni błąd bezwzględny](#a3)\n",
        "4. [Mean Squared Error - MSE - Błąd średniokwadratowy](#a4)\n",
        "5. [Root Mean Squared Error - RMSE - Pierwiastek błędu średniokwadratowego](#a5)\n",
        "6. [Max Error - Błąd maksymalny](#a6)\n",
        "7. [R2 score - współczynnik determinacji](#a7)\n",
        "\n",
        "    "
      ]
    },
    {
      "cell_type": "markdown",
      "metadata": {
        "id": "1Dc4DhtS7LTD"
      },
      "source": [
        "### <a name='a0'></a>  Import bibliotek"
      ]
    },
    {
      "cell_type": "code",
      "metadata": {
        "id": "qQZ7LNIt7KAY"
      },
      "source": [
        "import numpy as np\n",
        "import pandas as pd\n",
        "import plotly.express as px\n",
        "import plotly.graph_objects as go"
      ],
      "execution_count": 1,
      "outputs": []
    },
    {
      "cell_type": "code",
      "metadata": {
        "id": "GhNVhidb7SG7",
        "outputId": "954189f8-42a3-4f4e-ce99-57204385e6be",
        "colab": {
          "base_uri": "https://localhost:8080/"
        }
      },
      "source": [
        "y_true = 100 + 20 * np.random.randn(50)\n",
        "y_true"
      ],
      "execution_count": 2,
      "outputs": [
        {
          "output_type": "execute_result",
          "data": {
            "text/plain": [
              "array([ 65.2098087 , 104.00071204,  70.69983052,  68.61141868,\n",
              "        77.51454487,  80.64487189,  91.88593939,  91.89761679,\n",
              "        92.92788113,  87.21725444, 113.10931365,  99.09574681,\n",
              "       138.19961933, 114.86081782, 134.45239538, 101.06907811,\n",
              "        91.07769673, 111.4488275 ,  97.13980962,  83.26228415,\n",
              "        66.23155612, 119.75743666, 101.50563996,  83.29080164,\n",
              "       121.13071311, 107.24174177,  93.02124272, 101.32399643,\n",
              "        77.72255659,  98.59193208,  92.51785433, 121.48217175,\n",
              "        77.65556536, 102.87734735,  94.5418033 , 104.91683336,\n",
              "        99.96762523,  89.09272233, 134.17845836, 130.89755005,\n",
              "        75.58876231, 141.76401613,  97.56606779,  78.43019099,\n",
              "       133.83754576, 129.26885055, 100.27154369,  81.60415287,\n",
              "       114.51333256, 122.39784969])"
            ]
          },
          "metadata": {},
          "execution_count": 2
        }
      ]
    },
    {
      "cell_type": "code",
      "metadata": {
        "id": "HuAJr61k7cJV",
        "outputId": "3e1d20e8-c82e-46e3-be09-80e39dbf0b20",
        "colab": {
          "base_uri": "https://localhost:8080/"
        }
      },
      "source": [
        "y_pred = y_true + 10 * np.random.randn(50)\n",
        "y_pred"
      ],
      "execution_count": 3,
      "outputs": [
        {
          "output_type": "execute_result",
          "data": {
            "text/plain": [
              "array([ 68.6359407 ,  86.53413793,  60.7992371 ,  63.75664362,\n",
              "        73.65074281,  96.41832432,  80.2450281 , 100.61757829,\n",
              "       103.35719786,  81.20991222, 108.26122872, 105.33749961,\n",
              "       150.42393172, 114.73594378, 114.56358272, 104.57351276,\n",
              "       102.85793289, 106.19593634, 105.85037929, 103.41130921,\n",
              "        42.80121546, 106.02905034, 110.28380315, 101.20523442,\n",
              "       134.50146274,  87.85594543,  80.13305878,  86.34721062,\n",
              "        80.15163027,  98.51420245,  96.54384526, 122.7195952 ,\n",
              "        72.26045183, 110.5378878 ,  94.76929465, 104.70947414,\n",
              "       109.14659896,  76.50073863, 146.14274598, 133.58177771,\n",
              "        61.78723254, 145.64528722, 103.40388384,  92.59614856,\n",
              "       147.90969305, 129.34961772, 109.61292843,  90.85212201,\n",
              "       128.2188276 , 125.36880249])"
            ]
          },
          "metadata": {},
          "execution_count": 3
        }
      ]
    },
    {
      "cell_type": "code",
      "metadata": {
        "id": "8V3ah8zL7n2P",
        "outputId": "f1bbfd11-6ef4-43a8-e963-efce36bc9039",
        "colab": {
          "base_uri": "https://localhost:8080/",
          "height": 206
        }
      },
      "source": [
        "results = pd.DataFrame({'y_true': y_true, 'y_pred': y_pred})\n",
        "results.head()\n"
      ],
      "execution_count": 4,
      "outputs": [
        {
          "output_type": "execute_result",
          "data": {
            "text/plain": [
              "       y_true     y_pred\n",
              "0   65.209809  68.635941\n",
              "1  104.000712  86.534138\n",
              "2   70.699831  60.799237\n",
              "3   68.611419  63.756644\n",
              "4   77.514545  73.650743"
            ],
            "text/html": [
              "\n",
              "  <div id=\"df-9d6a88f9-e66b-4d6a-a871-058521075d05\" class=\"colab-df-container\">\n",
              "    <div>\n",
              "<style scoped>\n",
              "    .dataframe tbody tr th:only-of-type {\n",
              "        vertical-align: middle;\n",
              "    }\n",
              "\n",
              "    .dataframe tbody tr th {\n",
              "        vertical-align: top;\n",
              "    }\n",
              "\n",
              "    .dataframe thead th {\n",
              "        text-align: right;\n",
              "    }\n",
              "</style>\n",
              "<table border=\"1\" class=\"dataframe\">\n",
              "  <thead>\n",
              "    <tr style=\"text-align: right;\">\n",
              "      <th></th>\n",
              "      <th>y_true</th>\n",
              "      <th>y_pred</th>\n",
              "    </tr>\n",
              "  </thead>\n",
              "  <tbody>\n",
              "    <tr>\n",
              "      <th>0</th>\n",
              "      <td>65.209809</td>\n",
              "      <td>68.635941</td>\n",
              "    </tr>\n",
              "    <tr>\n",
              "      <th>1</th>\n",
              "      <td>104.000712</td>\n",
              "      <td>86.534138</td>\n",
              "    </tr>\n",
              "    <tr>\n",
              "      <th>2</th>\n",
              "      <td>70.699831</td>\n",
              "      <td>60.799237</td>\n",
              "    </tr>\n",
              "    <tr>\n",
              "      <th>3</th>\n",
              "      <td>68.611419</td>\n",
              "      <td>63.756644</td>\n",
              "    </tr>\n",
              "    <tr>\n",
              "      <th>4</th>\n",
              "      <td>77.514545</td>\n",
              "      <td>73.650743</td>\n",
              "    </tr>\n",
              "  </tbody>\n",
              "</table>\n",
              "</div>\n",
              "    <div class=\"colab-df-buttons\">\n",
              "\n",
              "  <div class=\"colab-df-container\">\n",
              "    <button class=\"colab-df-convert\" onclick=\"convertToInteractive('df-9d6a88f9-e66b-4d6a-a871-058521075d05')\"\n",
              "            title=\"Convert this dataframe to an interactive table.\"\n",
              "            style=\"display:none;\">\n",
              "\n",
              "  <svg xmlns=\"http://www.w3.org/2000/svg\" height=\"24px\" viewBox=\"0 -960 960 960\">\n",
              "    <path d=\"M120-120v-720h720v720H120Zm60-500h600v-160H180v160Zm220 220h160v-160H400v160Zm0 220h160v-160H400v160ZM180-400h160v-160H180v160Zm440 0h160v-160H620v160ZM180-180h160v-160H180v160Zm440 0h160v-160H620v160Z\"/>\n",
              "  </svg>\n",
              "    </button>\n",
              "\n",
              "  <style>\n",
              "    .colab-df-container {\n",
              "      display:flex;\n",
              "      gap: 12px;\n",
              "    }\n",
              "\n",
              "    .colab-df-convert {\n",
              "      background-color: #E8F0FE;\n",
              "      border: none;\n",
              "      border-radius: 50%;\n",
              "      cursor: pointer;\n",
              "      display: none;\n",
              "      fill: #1967D2;\n",
              "      height: 32px;\n",
              "      padding: 0 0 0 0;\n",
              "      width: 32px;\n",
              "    }\n",
              "\n",
              "    .colab-df-convert:hover {\n",
              "      background-color: #E2EBFA;\n",
              "      box-shadow: 0px 1px 2px rgba(60, 64, 67, 0.3), 0px 1px 3px 1px rgba(60, 64, 67, 0.15);\n",
              "      fill: #174EA6;\n",
              "    }\n",
              "\n",
              "    .colab-df-buttons div {\n",
              "      margin-bottom: 4px;\n",
              "    }\n",
              "\n",
              "    [theme=dark] .colab-df-convert {\n",
              "      background-color: #3B4455;\n",
              "      fill: #D2E3FC;\n",
              "    }\n",
              "\n",
              "    [theme=dark] .colab-df-convert:hover {\n",
              "      background-color: #434B5C;\n",
              "      box-shadow: 0px 1px 3px 1px rgba(0, 0, 0, 0.15);\n",
              "      filter: drop-shadow(0px 1px 2px rgba(0, 0, 0, 0.3));\n",
              "      fill: #FFFFFF;\n",
              "    }\n",
              "  </style>\n",
              "\n",
              "    <script>\n",
              "      const buttonEl =\n",
              "        document.querySelector('#df-9d6a88f9-e66b-4d6a-a871-058521075d05 button.colab-df-convert');\n",
              "      buttonEl.style.display =\n",
              "        google.colab.kernel.accessAllowed ? 'block' : 'none';\n",
              "\n",
              "      async function convertToInteractive(key) {\n",
              "        const element = document.querySelector('#df-9d6a88f9-e66b-4d6a-a871-058521075d05');\n",
              "        const dataTable =\n",
              "          await google.colab.kernel.invokeFunction('convertToInteractive',\n",
              "                                                    [key], {});\n",
              "        if (!dataTable) return;\n",
              "\n",
              "        const docLinkHtml = 'Like what you see? Visit the ' +\n",
              "          '<a target=\"_blank\" href=https://colab.research.google.com/notebooks/data_table.ipynb>data table notebook</a>'\n",
              "          + ' to learn more about interactive tables.';\n",
              "        element.innerHTML = '';\n",
              "        dataTable['output_type'] = 'display_data';\n",
              "        await google.colab.output.renderOutput(dataTable, element);\n",
              "        const docLink = document.createElement('div');\n",
              "        docLink.innerHTML = docLinkHtml;\n",
              "        element.appendChild(docLink);\n",
              "      }\n",
              "    </script>\n",
              "  </div>\n",
              "\n",
              "\n",
              "<div id=\"df-bb745e1b-377e-46f1-a858-ae1f0a22a794\">\n",
              "  <button class=\"colab-df-quickchart\" onclick=\"quickchart('df-bb745e1b-377e-46f1-a858-ae1f0a22a794')\"\n",
              "            title=\"Suggest charts\"\n",
              "            style=\"display:none;\">\n",
              "\n",
              "<svg xmlns=\"http://www.w3.org/2000/svg\" height=\"24px\"viewBox=\"0 0 24 24\"\n",
              "     width=\"24px\">\n",
              "    <g>\n",
              "        <path d=\"M19 3H5c-1.1 0-2 .9-2 2v14c0 1.1.9 2 2 2h14c1.1 0 2-.9 2-2V5c0-1.1-.9-2-2-2zM9 17H7v-7h2v7zm4 0h-2V7h2v10zm4 0h-2v-4h2v4z\"/>\n",
              "    </g>\n",
              "</svg>\n",
              "  </button>\n",
              "\n",
              "<style>\n",
              "  .colab-df-quickchart {\n",
              "      --bg-color: #E8F0FE;\n",
              "      --fill-color: #1967D2;\n",
              "      --hover-bg-color: #E2EBFA;\n",
              "      --hover-fill-color: #174EA6;\n",
              "      --disabled-fill-color: #AAA;\n",
              "      --disabled-bg-color: #DDD;\n",
              "  }\n",
              "\n",
              "  [theme=dark] .colab-df-quickchart {\n",
              "      --bg-color: #3B4455;\n",
              "      --fill-color: #D2E3FC;\n",
              "      --hover-bg-color: #434B5C;\n",
              "      --hover-fill-color: #FFFFFF;\n",
              "      --disabled-bg-color: #3B4455;\n",
              "      --disabled-fill-color: #666;\n",
              "  }\n",
              "\n",
              "  .colab-df-quickchart {\n",
              "    background-color: var(--bg-color);\n",
              "    border: none;\n",
              "    border-radius: 50%;\n",
              "    cursor: pointer;\n",
              "    display: none;\n",
              "    fill: var(--fill-color);\n",
              "    height: 32px;\n",
              "    padding: 0;\n",
              "    width: 32px;\n",
              "  }\n",
              "\n",
              "  .colab-df-quickchart:hover {\n",
              "    background-color: var(--hover-bg-color);\n",
              "    box-shadow: 0 1px 2px rgba(60, 64, 67, 0.3), 0 1px 3px 1px rgba(60, 64, 67, 0.15);\n",
              "    fill: var(--button-hover-fill-color);\n",
              "  }\n",
              "\n",
              "  .colab-df-quickchart-complete:disabled,\n",
              "  .colab-df-quickchart-complete:disabled:hover {\n",
              "    background-color: var(--disabled-bg-color);\n",
              "    fill: var(--disabled-fill-color);\n",
              "    box-shadow: none;\n",
              "  }\n",
              "\n",
              "  .colab-df-spinner {\n",
              "    border: 2px solid var(--fill-color);\n",
              "    border-color: transparent;\n",
              "    border-bottom-color: var(--fill-color);\n",
              "    animation:\n",
              "      spin 1s steps(1) infinite;\n",
              "  }\n",
              "\n",
              "  @keyframes spin {\n",
              "    0% {\n",
              "      border-color: transparent;\n",
              "      border-bottom-color: var(--fill-color);\n",
              "      border-left-color: var(--fill-color);\n",
              "    }\n",
              "    20% {\n",
              "      border-color: transparent;\n",
              "      border-left-color: var(--fill-color);\n",
              "      border-top-color: var(--fill-color);\n",
              "    }\n",
              "    30% {\n",
              "      border-color: transparent;\n",
              "      border-left-color: var(--fill-color);\n",
              "      border-top-color: var(--fill-color);\n",
              "      border-right-color: var(--fill-color);\n",
              "    }\n",
              "    40% {\n",
              "      border-color: transparent;\n",
              "      border-right-color: var(--fill-color);\n",
              "      border-top-color: var(--fill-color);\n",
              "    }\n",
              "    60% {\n",
              "      border-color: transparent;\n",
              "      border-right-color: var(--fill-color);\n",
              "    }\n",
              "    80% {\n",
              "      border-color: transparent;\n",
              "      border-right-color: var(--fill-color);\n",
              "      border-bottom-color: var(--fill-color);\n",
              "    }\n",
              "    90% {\n",
              "      border-color: transparent;\n",
              "      border-bottom-color: var(--fill-color);\n",
              "    }\n",
              "  }\n",
              "</style>\n",
              "\n",
              "  <script>\n",
              "    async function quickchart(key) {\n",
              "      const quickchartButtonEl =\n",
              "        document.querySelector('#' + key + ' button');\n",
              "      quickchartButtonEl.disabled = true;  // To prevent multiple clicks.\n",
              "      quickchartButtonEl.classList.add('colab-df-spinner');\n",
              "      try {\n",
              "        const charts = await google.colab.kernel.invokeFunction(\n",
              "            'suggestCharts', [key], {});\n",
              "      } catch (error) {\n",
              "        console.error('Error during call to suggestCharts:', error);\n",
              "      }\n",
              "      quickchartButtonEl.classList.remove('colab-df-spinner');\n",
              "      quickchartButtonEl.classList.add('colab-df-quickchart-complete');\n",
              "    }\n",
              "    (() => {\n",
              "      let quickchartButtonEl =\n",
              "        document.querySelector('#df-bb745e1b-377e-46f1-a858-ae1f0a22a794 button');\n",
              "      quickchartButtonEl.style.display =\n",
              "        google.colab.kernel.accessAllowed ? 'block' : 'none';\n",
              "    })();\n",
              "  </script>\n",
              "</div>\n",
              "\n",
              "    </div>\n",
              "  </div>\n"
            ],
            "application/vnd.google.colaboratory.intrinsic+json": {
              "type": "dataframe",
              "variable_name": "results",
              "summary": "{\n  \"name\": \"results\",\n  \"rows\": 50,\n  \"fields\": [\n    {\n      \"column\": \"y_true\",\n      \"properties\": {\n        \"dtype\": \"number\",\n        \"std\": 20.14147798812417,\n        \"min\": 65.20980869627067,\n        \"max\": 141.7640161288274,\n        \"num_unique_values\": 50,\n        \"samples\": [\n          114.86081781711657,\n          130.89755005268694,\n          92.51785433120023\n        ],\n        \"semantic_type\": \"\",\n        \"description\": \"\"\n      }\n    },\n    {\n      \"column\": \"y_pred\",\n      \"properties\": {\n        \"dtype\": \"number\",\n        \"std\": 23.925569493993578,\n        \"min\": 42.80121546205814,\n        \"max\": 150.42393171953606,\n        \"num_unique_values\": 50,\n        \"samples\": [\n          114.73594378238242,\n          133.58177770648987,\n          96.54384526464385\n        ],\n        \"semantic_type\": \"\",\n        \"description\": \"\"\n      }\n    }\n  ]\n}"
            }
          },
          "metadata": {},
          "execution_count": 4
        }
      ]
    },
    {
      "cell_type": "code",
      "metadata": {
        "id": "SPMt-m1e78VI",
        "outputId": "269e3111-ac2b-42d4-9283-18b49de2bf83",
        "colab": {
          "base_uri": "https://localhost:8080/",
          "height": 363
        }
      },
      "source": [
        "results['error'] = results['y_true'] - results['y_pred']\n",
        "results.head(10)"
      ],
      "execution_count": 5,
      "outputs": [
        {
          "output_type": "execute_result",
          "data": {
            "text/plain": [
              "       y_true      y_pred      error\n",
              "0   65.209809   68.635941  -3.426132\n",
              "1  104.000712   86.534138  17.466574\n",
              "2   70.699831   60.799237   9.900593\n",
              "3   68.611419   63.756644   4.854775\n",
              "4   77.514545   73.650743   3.863802\n",
              "5   80.644872   96.418324 -15.773452\n",
              "6   91.885939   80.245028  11.640911\n",
              "7   91.897617  100.617578  -8.719962\n",
              "8   92.927881  103.357198 -10.429317\n",
              "9   87.217254   81.209912   6.007342"
            ],
            "text/html": [
              "\n",
              "  <div id=\"df-212ed29d-27f1-4829-a052-2503a8e5143c\" class=\"colab-df-container\">\n",
              "    <div>\n",
              "<style scoped>\n",
              "    .dataframe tbody tr th:only-of-type {\n",
              "        vertical-align: middle;\n",
              "    }\n",
              "\n",
              "    .dataframe tbody tr th {\n",
              "        vertical-align: top;\n",
              "    }\n",
              "\n",
              "    .dataframe thead th {\n",
              "        text-align: right;\n",
              "    }\n",
              "</style>\n",
              "<table border=\"1\" class=\"dataframe\">\n",
              "  <thead>\n",
              "    <tr style=\"text-align: right;\">\n",
              "      <th></th>\n",
              "      <th>y_true</th>\n",
              "      <th>y_pred</th>\n",
              "      <th>error</th>\n",
              "    </tr>\n",
              "  </thead>\n",
              "  <tbody>\n",
              "    <tr>\n",
              "      <th>0</th>\n",
              "      <td>65.209809</td>\n",
              "      <td>68.635941</td>\n",
              "      <td>-3.426132</td>\n",
              "    </tr>\n",
              "    <tr>\n",
              "      <th>1</th>\n",
              "      <td>104.000712</td>\n",
              "      <td>86.534138</td>\n",
              "      <td>17.466574</td>\n",
              "    </tr>\n",
              "    <tr>\n",
              "      <th>2</th>\n",
              "      <td>70.699831</td>\n",
              "      <td>60.799237</td>\n",
              "      <td>9.900593</td>\n",
              "    </tr>\n",
              "    <tr>\n",
              "      <th>3</th>\n",
              "      <td>68.611419</td>\n",
              "      <td>63.756644</td>\n",
              "      <td>4.854775</td>\n",
              "    </tr>\n",
              "    <tr>\n",
              "      <th>4</th>\n",
              "      <td>77.514545</td>\n",
              "      <td>73.650743</td>\n",
              "      <td>3.863802</td>\n",
              "    </tr>\n",
              "    <tr>\n",
              "      <th>5</th>\n",
              "      <td>80.644872</td>\n",
              "      <td>96.418324</td>\n",
              "      <td>-15.773452</td>\n",
              "    </tr>\n",
              "    <tr>\n",
              "      <th>6</th>\n",
              "      <td>91.885939</td>\n",
              "      <td>80.245028</td>\n",
              "      <td>11.640911</td>\n",
              "    </tr>\n",
              "    <tr>\n",
              "      <th>7</th>\n",
              "      <td>91.897617</td>\n",
              "      <td>100.617578</td>\n",
              "      <td>-8.719962</td>\n",
              "    </tr>\n",
              "    <tr>\n",
              "      <th>8</th>\n",
              "      <td>92.927881</td>\n",
              "      <td>103.357198</td>\n",
              "      <td>-10.429317</td>\n",
              "    </tr>\n",
              "    <tr>\n",
              "      <th>9</th>\n",
              "      <td>87.217254</td>\n",
              "      <td>81.209912</td>\n",
              "      <td>6.007342</td>\n",
              "    </tr>\n",
              "  </tbody>\n",
              "</table>\n",
              "</div>\n",
              "    <div class=\"colab-df-buttons\">\n",
              "\n",
              "  <div class=\"colab-df-container\">\n",
              "    <button class=\"colab-df-convert\" onclick=\"convertToInteractive('df-212ed29d-27f1-4829-a052-2503a8e5143c')\"\n",
              "            title=\"Convert this dataframe to an interactive table.\"\n",
              "            style=\"display:none;\">\n",
              "\n",
              "  <svg xmlns=\"http://www.w3.org/2000/svg\" height=\"24px\" viewBox=\"0 -960 960 960\">\n",
              "    <path d=\"M120-120v-720h720v720H120Zm60-500h600v-160H180v160Zm220 220h160v-160H400v160Zm0 220h160v-160H400v160ZM180-400h160v-160H180v160Zm440 0h160v-160H620v160ZM180-180h160v-160H180v160Zm440 0h160v-160H620v160Z\"/>\n",
              "  </svg>\n",
              "    </button>\n",
              "\n",
              "  <style>\n",
              "    .colab-df-container {\n",
              "      display:flex;\n",
              "      gap: 12px;\n",
              "    }\n",
              "\n",
              "    .colab-df-convert {\n",
              "      background-color: #E8F0FE;\n",
              "      border: none;\n",
              "      border-radius: 50%;\n",
              "      cursor: pointer;\n",
              "      display: none;\n",
              "      fill: #1967D2;\n",
              "      height: 32px;\n",
              "      padding: 0 0 0 0;\n",
              "      width: 32px;\n",
              "    }\n",
              "\n",
              "    .colab-df-convert:hover {\n",
              "      background-color: #E2EBFA;\n",
              "      box-shadow: 0px 1px 2px rgba(60, 64, 67, 0.3), 0px 1px 3px 1px rgba(60, 64, 67, 0.15);\n",
              "      fill: #174EA6;\n",
              "    }\n",
              "\n",
              "    .colab-df-buttons div {\n",
              "      margin-bottom: 4px;\n",
              "    }\n",
              "\n",
              "    [theme=dark] .colab-df-convert {\n",
              "      background-color: #3B4455;\n",
              "      fill: #D2E3FC;\n",
              "    }\n",
              "\n",
              "    [theme=dark] .colab-df-convert:hover {\n",
              "      background-color: #434B5C;\n",
              "      box-shadow: 0px 1px 3px 1px rgba(0, 0, 0, 0.15);\n",
              "      filter: drop-shadow(0px 1px 2px rgba(0, 0, 0, 0.3));\n",
              "      fill: #FFFFFF;\n",
              "    }\n",
              "  </style>\n",
              "\n",
              "    <script>\n",
              "      const buttonEl =\n",
              "        document.querySelector('#df-212ed29d-27f1-4829-a052-2503a8e5143c button.colab-df-convert');\n",
              "      buttonEl.style.display =\n",
              "        google.colab.kernel.accessAllowed ? 'block' : 'none';\n",
              "\n",
              "      async function convertToInteractive(key) {\n",
              "        const element = document.querySelector('#df-212ed29d-27f1-4829-a052-2503a8e5143c');\n",
              "        const dataTable =\n",
              "          await google.colab.kernel.invokeFunction('convertToInteractive',\n",
              "                                                    [key], {});\n",
              "        if (!dataTable) return;\n",
              "\n",
              "        const docLinkHtml = 'Like what you see? Visit the ' +\n",
              "          '<a target=\"_blank\" href=https://colab.research.google.com/notebooks/data_table.ipynb>data table notebook</a>'\n",
              "          + ' to learn more about interactive tables.';\n",
              "        element.innerHTML = '';\n",
              "        dataTable['output_type'] = 'display_data';\n",
              "        await google.colab.output.renderOutput(dataTable, element);\n",
              "        const docLink = document.createElement('div');\n",
              "        docLink.innerHTML = docLinkHtml;\n",
              "        element.appendChild(docLink);\n",
              "      }\n",
              "    </script>\n",
              "  </div>\n",
              "\n",
              "\n",
              "<div id=\"df-45bb7d83-b0be-4508-92dc-f56f8d719b3b\">\n",
              "  <button class=\"colab-df-quickchart\" onclick=\"quickchart('df-45bb7d83-b0be-4508-92dc-f56f8d719b3b')\"\n",
              "            title=\"Suggest charts\"\n",
              "            style=\"display:none;\">\n",
              "\n",
              "<svg xmlns=\"http://www.w3.org/2000/svg\" height=\"24px\"viewBox=\"0 0 24 24\"\n",
              "     width=\"24px\">\n",
              "    <g>\n",
              "        <path d=\"M19 3H5c-1.1 0-2 .9-2 2v14c0 1.1.9 2 2 2h14c1.1 0 2-.9 2-2V5c0-1.1-.9-2-2-2zM9 17H7v-7h2v7zm4 0h-2V7h2v10zm4 0h-2v-4h2v4z\"/>\n",
              "    </g>\n",
              "</svg>\n",
              "  </button>\n",
              "\n",
              "<style>\n",
              "  .colab-df-quickchart {\n",
              "      --bg-color: #E8F0FE;\n",
              "      --fill-color: #1967D2;\n",
              "      --hover-bg-color: #E2EBFA;\n",
              "      --hover-fill-color: #174EA6;\n",
              "      --disabled-fill-color: #AAA;\n",
              "      --disabled-bg-color: #DDD;\n",
              "  }\n",
              "\n",
              "  [theme=dark] .colab-df-quickchart {\n",
              "      --bg-color: #3B4455;\n",
              "      --fill-color: #D2E3FC;\n",
              "      --hover-bg-color: #434B5C;\n",
              "      --hover-fill-color: #FFFFFF;\n",
              "      --disabled-bg-color: #3B4455;\n",
              "      --disabled-fill-color: #666;\n",
              "  }\n",
              "\n",
              "  .colab-df-quickchart {\n",
              "    background-color: var(--bg-color);\n",
              "    border: none;\n",
              "    border-radius: 50%;\n",
              "    cursor: pointer;\n",
              "    display: none;\n",
              "    fill: var(--fill-color);\n",
              "    height: 32px;\n",
              "    padding: 0;\n",
              "    width: 32px;\n",
              "  }\n",
              "\n",
              "  .colab-df-quickchart:hover {\n",
              "    background-color: var(--hover-bg-color);\n",
              "    box-shadow: 0 1px 2px rgba(60, 64, 67, 0.3), 0 1px 3px 1px rgba(60, 64, 67, 0.15);\n",
              "    fill: var(--button-hover-fill-color);\n",
              "  }\n",
              "\n",
              "  .colab-df-quickchart-complete:disabled,\n",
              "  .colab-df-quickchart-complete:disabled:hover {\n",
              "    background-color: var(--disabled-bg-color);\n",
              "    fill: var(--disabled-fill-color);\n",
              "    box-shadow: none;\n",
              "  }\n",
              "\n",
              "  .colab-df-spinner {\n",
              "    border: 2px solid var(--fill-color);\n",
              "    border-color: transparent;\n",
              "    border-bottom-color: var(--fill-color);\n",
              "    animation:\n",
              "      spin 1s steps(1) infinite;\n",
              "  }\n",
              "\n",
              "  @keyframes spin {\n",
              "    0% {\n",
              "      border-color: transparent;\n",
              "      border-bottom-color: var(--fill-color);\n",
              "      border-left-color: var(--fill-color);\n",
              "    }\n",
              "    20% {\n",
              "      border-color: transparent;\n",
              "      border-left-color: var(--fill-color);\n",
              "      border-top-color: var(--fill-color);\n",
              "    }\n",
              "    30% {\n",
              "      border-color: transparent;\n",
              "      border-left-color: var(--fill-color);\n",
              "      border-top-color: var(--fill-color);\n",
              "      border-right-color: var(--fill-color);\n",
              "    }\n",
              "    40% {\n",
              "      border-color: transparent;\n",
              "      border-right-color: var(--fill-color);\n",
              "      border-top-color: var(--fill-color);\n",
              "    }\n",
              "    60% {\n",
              "      border-color: transparent;\n",
              "      border-right-color: var(--fill-color);\n",
              "    }\n",
              "    80% {\n",
              "      border-color: transparent;\n",
              "      border-right-color: var(--fill-color);\n",
              "      border-bottom-color: var(--fill-color);\n",
              "    }\n",
              "    90% {\n",
              "      border-color: transparent;\n",
              "      border-bottom-color: var(--fill-color);\n",
              "    }\n",
              "  }\n",
              "</style>\n",
              "\n",
              "  <script>\n",
              "    async function quickchart(key) {\n",
              "      const quickchartButtonEl =\n",
              "        document.querySelector('#' + key + ' button');\n",
              "      quickchartButtonEl.disabled = true;  // To prevent multiple clicks.\n",
              "      quickchartButtonEl.classList.add('colab-df-spinner');\n",
              "      try {\n",
              "        const charts = await google.colab.kernel.invokeFunction(\n",
              "            'suggestCharts', [key], {});\n",
              "      } catch (error) {\n",
              "        console.error('Error during call to suggestCharts:', error);\n",
              "      }\n",
              "      quickchartButtonEl.classList.remove('colab-df-spinner');\n",
              "      quickchartButtonEl.classList.add('colab-df-quickchart-complete');\n",
              "    }\n",
              "    (() => {\n",
              "      let quickchartButtonEl =\n",
              "        document.querySelector('#df-45bb7d83-b0be-4508-92dc-f56f8d719b3b button');\n",
              "      quickchartButtonEl.style.display =\n",
              "        google.colab.kernel.accessAllowed ? 'block' : 'none';\n",
              "    })();\n",
              "  </script>\n",
              "</div>\n",
              "\n",
              "    </div>\n",
              "  </div>\n"
            ],
            "application/vnd.google.colaboratory.intrinsic+json": {
              "type": "dataframe",
              "variable_name": "results",
              "summary": "{\n  \"name\": \"results\",\n  \"rows\": 50,\n  \"fields\": [\n    {\n      \"column\": \"y_true\",\n      \"properties\": {\n        \"dtype\": \"number\",\n        \"std\": 20.14147798812417,\n        \"min\": 65.20980869627067,\n        \"max\": 141.7640161288274,\n        \"num_unique_values\": 50,\n        \"samples\": [\n          114.86081781711657,\n          130.89755005268694,\n          92.51785433120023\n        ],\n        \"semantic_type\": \"\",\n        \"description\": \"\"\n      }\n    },\n    {\n      \"column\": \"y_pred\",\n      \"properties\": {\n        \"dtype\": \"number\",\n        \"std\": 23.925569493993578,\n        \"min\": 42.80121546205814,\n        \"max\": 150.42393171953606,\n        \"num_unique_values\": 50,\n        \"samples\": [\n          114.73594378238242,\n          133.58177770648987,\n          96.54384526464385\n        ],\n        \"semantic_type\": \"\",\n        \"description\": \"\"\n      }\n    },\n    {\n      \"column\": \"error\",\n      \"properties\": {\n        \"dtype\": \"number\",\n        \"std\": 10.938046320979574,\n        \"min\": -20.14902505527293,\n        \"max\": 23.43034065937529,\n        \"num_unique_values\": 50,\n        \"samples\": [\n          0.12487403473414815,\n          -2.6842276538029353,\n          -4.025990933443623\n        ],\n        \"semantic_type\": \"\",\n        \"description\": \"\"\n      }\n    }\n  ]\n}"
            }
          },
          "metadata": {},
          "execution_count": 5
        }
      ]
    },
    {
      "cell_type": "markdown",
      "metadata": {
        "id": "JkXYHzBlCrXB"
      },
      "source": [
        "\n",
        "### <a name='a2'></a> Interpretacja graficzna"
      ]
    },
    {
      "cell_type": "code",
      "metadata": {
        "id": "aFdc5zl6_bih",
        "outputId": "7c388114-666e-4e42-a3ee-dd9539ef0537",
        "colab": {
          "base_uri": "https://localhost:8080/",
          "height": 517
        }
      },
      "source": [
        "def plot_regression_results(y_true, y_pred):\n",
        "    results = pd.DataFrame({'y_true': y_true, 'y_pred': y_pred})\n",
        "    min = results[['y_true', 'y_pred']].min().min()\n",
        "    max = results[['y_true', 'y_pred']].max().max()\n",
        "\n",
        "    fig = go.Figure(data=[go.Scatter(x=results['y_true'], y=results['y_pred'], mode='markers'),\n",
        "                    go.Scatter(x=[min, max], y=[min, max])],\n",
        "                    layout=go.Layout(showlegend=False, width=800, height=500,\n",
        "                                     xaxis_title='y_true',\n",
        "                                     yaxis_title='y_pred',\n",
        "                                     title='Regression results'))\n",
        "    fig.show()\n",
        "plot_regression_results(y_true, y_pred)"
      ],
      "execution_count": 6,
      "outputs": [
        {
          "output_type": "display_data",
          "data": {
            "text/html": [
              "<html>\n",
              "<head><meta charset=\"utf-8\" /></head>\n",
              "<body>\n",
              "    <div>            <script src=\"https://cdnjs.cloudflare.com/ajax/libs/mathjax/2.7.5/MathJax.js?config=TeX-AMS-MML_SVG\"></script><script type=\"text/javascript\">if (window.MathJax && window.MathJax.Hub && window.MathJax.Hub.Config) {window.MathJax.Hub.Config({SVG: {font: \"STIX-Web\"}});}</script>                <script type=\"text/javascript\">window.PlotlyConfig = {MathJaxConfig: 'local'};</script>\n",
              "        <script charset=\"utf-8\" src=\"https://cdn.plot.ly/plotly-2.35.2.min.js\"></script>                <div id=\"2c50ce49-55d8-4620-afbb-b55e831cd051\" class=\"plotly-graph-div\" style=\"height:500px; width:800px;\"></div>            <script type=\"text/javascript\">                                    window.PLOTLYENV=window.PLOTLYENV || {};                                    if (document.getElementById(\"2c50ce49-55d8-4620-afbb-b55e831cd051\")) {                    Plotly.newPlot(                        \"2c50ce49-55d8-4620-afbb-b55e831cd051\",                        [{\"mode\":\"markers\",\"x\":[65.20980869627067,104.00071204039898,70.6998305227466,68.61141868472251,77.51454486802758,80.64487188634709,91.88593938733364,91.89761679335676,92.92788112559587,87.21725443613666,113.10931365479512,99.0957468101068,138.1996193333755,114.86081781711657,134.45239537798005,101.06907811203425,91.07769673044966,111.44882750024573,97.13980962413832,83.26228415322844,66.23155612143343,119.75743665934488,101.505639963908,83.29080164036142,121.13071311242302,107.2417417667462,93.02124271659969,101.32399643053634,77.72255659383575,98.59193207621574,92.51785433120023,121.48217174951078,77.65556536386214,102.87734734579911,94.54180329670348,104.9168333606328,99.96762522668423,89.09272232502022,134.17845835807128,130.89755005268694,75.58876230965535,141.7640161288274,97.56606779355714,78.43019098724355,133.83754575972932,129.26885055321858,100.27154368559964,81.60415287105894,114.51333255538154,122.39784969376745],\"y\":[68.63594070173124,86.53413793229878,60.799237102925574,63.75664361923984,73.65074281459852,96.418324317025,80.24502810373284,100.61757829494543,103.35719786237173,81.20991222207773,108.2612287177227,105.33749961072685,150.42393171953606,114.73594378238242,114.56358272191792,104.57351275694131,102.85793289186294,106.1959363358517,105.85037929336404,103.41130920850136,42.80121546205814,106.02905033550601,110.28380315470451,101.20523442112444,134.5014627436407,87.85594542619219,80.13305878116687,86.34721062059376,80.15163027038687,98.51420244790343,96.54384526464385,122.71959519736829,72.26045183200524,110.53788779561147,94.76929464601072,104.70947414455928,109.14659896152962,76.50073862774626,146.14274598350755,133.58177770648987,61.78723253939287,145.64528721828205,103.40388384479586,92.59614855748373,147.90969305322938,129.34961772393424,109.61292842946837,90.8521220123008,128.21882760099936,125.36880248580891],\"type\":\"scatter\"},{\"x\":[42.80121546205814,150.42393171953606],\"y\":[42.80121546205814,150.42393171953606],\"type\":\"scatter\"}],                        {\"height\":500,\"showlegend\":false,\"title\":{\"text\":\"Regression results\"},\"width\":800,\"xaxis\":{\"title\":{\"text\":\"y_true\"}},\"yaxis\":{\"title\":{\"text\":\"y_pred\"}},\"template\":{\"data\":{\"histogram2dcontour\":[{\"type\":\"histogram2dcontour\",\"colorbar\":{\"outlinewidth\":0,\"ticks\":\"\"},\"colorscale\":[[0.0,\"#0d0887\"],[0.1111111111111111,\"#46039f\"],[0.2222222222222222,\"#7201a8\"],[0.3333333333333333,\"#9c179e\"],[0.4444444444444444,\"#bd3786\"],[0.5555555555555556,\"#d8576b\"],[0.6666666666666666,\"#ed7953\"],[0.7777777777777778,\"#fb9f3a\"],[0.8888888888888888,\"#fdca26\"],[1.0,\"#f0f921\"]]}],\"choropleth\":[{\"type\":\"choropleth\",\"colorbar\":{\"outlinewidth\":0,\"ticks\":\"\"}}],\"histogram2d\":[{\"type\":\"histogram2d\",\"colorbar\":{\"outlinewidth\":0,\"ticks\":\"\"},\"colorscale\":[[0.0,\"#0d0887\"],[0.1111111111111111,\"#46039f\"],[0.2222222222222222,\"#7201a8\"],[0.3333333333333333,\"#9c179e\"],[0.4444444444444444,\"#bd3786\"],[0.5555555555555556,\"#d8576b\"],[0.6666666666666666,\"#ed7953\"],[0.7777777777777778,\"#fb9f3a\"],[0.8888888888888888,\"#fdca26\"],[1.0,\"#f0f921\"]]}],\"heatmap\":[{\"type\":\"heatmap\",\"colorbar\":{\"outlinewidth\":0,\"ticks\":\"\"},\"colorscale\":[[0.0,\"#0d0887\"],[0.1111111111111111,\"#46039f\"],[0.2222222222222222,\"#7201a8\"],[0.3333333333333333,\"#9c179e\"],[0.4444444444444444,\"#bd3786\"],[0.5555555555555556,\"#d8576b\"],[0.6666666666666666,\"#ed7953\"],[0.7777777777777778,\"#fb9f3a\"],[0.8888888888888888,\"#fdca26\"],[1.0,\"#f0f921\"]]}],\"heatmapgl\":[{\"type\":\"heatmapgl\",\"colorbar\":{\"outlinewidth\":0,\"ticks\":\"\"},\"colorscale\":[[0.0,\"#0d0887\"],[0.1111111111111111,\"#46039f\"],[0.2222222222222222,\"#7201a8\"],[0.3333333333333333,\"#9c179e\"],[0.4444444444444444,\"#bd3786\"],[0.5555555555555556,\"#d8576b\"],[0.6666666666666666,\"#ed7953\"],[0.7777777777777778,\"#fb9f3a\"],[0.8888888888888888,\"#fdca26\"],[1.0,\"#f0f921\"]]}],\"contourcarpet\":[{\"type\":\"contourcarpet\",\"colorbar\":{\"outlinewidth\":0,\"ticks\":\"\"}}],\"contour\":[{\"type\":\"contour\",\"colorbar\":{\"outlinewidth\":0,\"ticks\":\"\"},\"colorscale\":[[0.0,\"#0d0887\"],[0.1111111111111111,\"#46039f\"],[0.2222222222222222,\"#7201a8\"],[0.3333333333333333,\"#9c179e\"],[0.4444444444444444,\"#bd3786\"],[0.5555555555555556,\"#d8576b\"],[0.6666666666666666,\"#ed7953\"],[0.7777777777777778,\"#fb9f3a\"],[0.8888888888888888,\"#fdca26\"],[1.0,\"#f0f921\"]]}],\"surface\":[{\"type\":\"surface\",\"colorbar\":{\"outlinewidth\":0,\"ticks\":\"\"},\"colorscale\":[[0.0,\"#0d0887\"],[0.1111111111111111,\"#46039f\"],[0.2222222222222222,\"#7201a8\"],[0.3333333333333333,\"#9c179e\"],[0.4444444444444444,\"#bd3786\"],[0.5555555555555556,\"#d8576b\"],[0.6666666666666666,\"#ed7953\"],[0.7777777777777778,\"#fb9f3a\"],[0.8888888888888888,\"#fdca26\"],[1.0,\"#f0f921\"]]}],\"mesh3d\":[{\"type\":\"mesh3d\",\"colorbar\":{\"outlinewidth\":0,\"ticks\":\"\"}}],\"scatter\":[{\"fillpattern\":{\"fillmode\":\"overlay\",\"size\":10,\"solidity\":0.2},\"type\":\"scatter\"}],\"parcoords\":[{\"type\":\"parcoords\",\"line\":{\"colorbar\":{\"outlinewidth\":0,\"ticks\":\"\"}}}],\"scatterpolargl\":[{\"type\":\"scatterpolargl\",\"marker\":{\"colorbar\":{\"outlinewidth\":0,\"ticks\":\"\"}}}],\"bar\":[{\"error_x\":{\"color\":\"#2a3f5f\"},\"error_y\":{\"color\":\"#2a3f5f\"},\"marker\":{\"line\":{\"color\":\"#E5ECF6\",\"width\":0.5},\"pattern\":{\"fillmode\":\"overlay\",\"size\":10,\"solidity\":0.2}},\"type\":\"bar\"}],\"scattergeo\":[{\"type\":\"scattergeo\",\"marker\":{\"colorbar\":{\"outlinewidth\":0,\"ticks\":\"\"}}}],\"scatterpolar\":[{\"type\":\"scatterpolar\",\"marker\":{\"colorbar\":{\"outlinewidth\":0,\"ticks\":\"\"}}}],\"histogram\":[{\"marker\":{\"pattern\":{\"fillmode\":\"overlay\",\"size\":10,\"solidity\":0.2}},\"type\":\"histogram\"}],\"scattergl\":[{\"type\":\"scattergl\",\"marker\":{\"colorbar\":{\"outlinewidth\":0,\"ticks\":\"\"}}}],\"scatter3d\":[{\"type\":\"scatter3d\",\"line\":{\"colorbar\":{\"outlinewidth\":0,\"ticks\":\"\"}},\"marker\":{\"colorbar\":{\"outlinewidth\":0,\"ticks\":\"\"}}}],\"scattermapbox\":[{\"type\":\"scattermapbox\",\"marker\":{\"colorbar\":{\"outlinewidth\":0,\"ticks\":\"\"}}}],\"scatterternary\":[{\"type\":\"scatterternary\",\"marker\":{\"colorbar\":{\"outlinewidth\":0,\"ticks\":\"\"}}}],\"scattercarpet\":[{\"type\":\"scattercarpet\",\"marker\":{\"colorbar\":{\"outlinewidth\":0,\"ticks\":\"\"}}}],\"carpet\":[{\"aaxis\":{\"endlinecolor\":\"#2a3f5f\",\"gridcolor\":\"white\",\"linecolor\":\"white\",\"minorgridcolor\":\"white\",\"startlinecolor\":\"#2a3f5f\"},\"baxis\":{\"endlinecolor\":\"#2a3f5f\",\"gridcolor\":\"white\",\"linecolor\":\"white\",\"minorgridcolor\":\"white\",\"startlinecolor\":\"#2a3f5f\"},\"type\":\"carpet\"}],\"table\":[{\"cells\":{\"fill\":{\"color\":\"#EBF0F8\"},\"line\":{\"color\":\"white\"}},\"header\":{\"fill\":{\"color\":\"#C8D4E3\"},\"line\":{\"color\":\"white\"}},\"type\":\"table\"}],\"barpolar\":[{\"marker\":{\"line\":{\"color\":\"#E5ECF6\",\"width\":0.5},\"pattern\":{\"fillmode\":\"overlay\",\"size\":10,\"solidity\":0.2}},\"type\":\"barpolar\"}],\"pie\":[{\"automargin\":true,\"type\":\"pie\"}]},\"layout\":{\"autotypenumbers\":\"strict\",\"colorway\":[\"#636efa\",\"#EF553B\",\"#00cc96\",\"#ab63fa\",\"#FFA15A\",\"#19d3f3\",\"#FF6692\",\"#B6E880\",\"#FF97FF\",\"#FECB52\"],\"font\":{\"color\":\"#2a3f5f\"},\"hovermode\":\"closest\",\"hoverlabel\":{\"align\":\"left\"},\"paper_bgcolor\":\"white\",\"plot_bgcolor\":\"#E5ECF6\",\"polar\":{\"bgcolor\":\"#E5ECF6\",\"angularaxis\":{\"gridcolor\":\"white\",\"linecolor\":\"white\",\"ticks\":\"\"},\"radialaxis\":{\"gridcolor\":\"white\",\"linecolor\":\"white\",\"ticks\":\"\"}},\"ternary\":{\"bgcolor\":\"#E5ECF6\",\"aaxis\":{\"gridcolor\":\"white\",\"linecolor\":\"white\",\"ticks\":\"\"},\"baxis\":{\"gridcolor\":\"white\",\"linecolor\":\"white\",\"ticks\":\"\"},\"caxis\":{\"gridcolor\":\"white\",\"linecolor\":\"white\",\"ticks\":\"\"}},\"coloraxis\":{\"colorbar\":{\"outlinewidth\":0,\"ticks\":\"\"}},\"colorscale\":{\"sequential\":[[0.0,\"#0d0887\"],[0.1111111111111111,\"#46039f\"],[0.2222222222222222,\"#7201a8\"],[0.3333333333333333,\"#9c179e\"],[0.4444444444444444,\"#bd3786\"],[0.5555555555555556,\"#d8576b\"],[0.6666666666666666,\"#ed7953\"],[0.7777777777777778,\"#fb9f3a\"],[0.8888888888888888,\"#fdca26\"],[1.0,\"#f0f921\"]],\"sequentialminus\":[[0.0,\"#0d0887\"],[0.1111111111111111,\"#46039f\"],[0.2222222222222222,\"#7201a8\"],[0.3333333333333333,\"#9c179e\"],[0.4444444444444444,\"#bd3786\"],[0.5555555555555556,\"#d8576b\"],[0.6666666666666666,\"#ed7953\"],[0.7777777777777778,\"#fb9f3a\"],[0.8888888888888888,\"#fdca26\"],[1.0,\"#f0f921\"]],\"diverging\":[[0,\"#8e0152\"],[0.1,\"#c51b7d\"],[0.2,\"#de77ae\"],[0.3,\"#f1b6da\"],[0.4,\"#fde0ef\"],[0.5,\"#f7f7f7\"],[0.6,\"#e6f5d0\"],[0.7,\"#b8e186\"],[0.8,\"#7fbc41\"],[0.9,\"#4d9221\"],[1,\"#276419\"]]},\"xaxis\":{\"gridcolor\":\"white\",\"linecolor\":\"white\",\"ticks\":\"\",\"title\":{\"standoff\":15},\"zerolinecolor\":\"white\",\"automargin\":true,\"zerolinewidth\":2},\"yaxis\":{\"gridcolor\":\"white\",\"linecolor\":\"white\",\"ticks\":\"\",\"title\":{\"standoff\":15},\"zerolinecolor\":\"white\",\"automargin\":true,\"zerolinewidth\":2},\"scene\":{\"xaxis\":{\"backgroundcolor\":\"#E5ECF6\",\"gridcolor\":\"white\",\"linecolor\":\"white\",\"showbackground\":true,\"ticks\":\"\",\"zerolinecolor\":\"white\",\"gridwidth\":2},\"yaxis\":{\"backgroundcolor\":\"#E5ECF6\",\"gridcolor\":\"white\",\"linecolor\":\"white\",\"showbackground\":true,\"ticks\":\"\",\"zerolinecolor\":\"white\",\"gridwidth\":2},\"zaxis\":{\"backgroundcolor\":\"#E5ECF6\",\"gridcolor\":\"white\",\"linecolor\":\"white\",\"showbackground\":true,\"ticks\":\"\",\"zerolinecolor\":\"white\",\"gridwidth\":2}},\"shapedefaults\":{\"line\":{\"color\":\"#2a3f5f\"}},\"annotationdefaults\":{\"arrowcolor\":\"#2a3f5f\",\"arrowhead\":0,\"arrowwidth\":1},\"geo\":{\"bgcolor\":\"white\",\"landcolor\":\"#E5ECF6\",\"subunitcolor\":\"white\",\"showland\":true,\"showlakes\":true,\"lakecolor\":\"white\"},\"title\":{\"x\":0.05},\"mapbox\":{\"style\":\"light\"}}}},                        {\"responsive\": true}                    ).then(function(){\n",
              "                            \n",
              "var gd = document.getElementById('2c50ce49-55d8-4620-afbb-b55e831cd051');\n",
              "var x = new MutationObserver(function (mutations, observer) {{\n",
              "        var display = window.getComputedStyle(gd).display;\n",
              "        if (!display || display === 'none') {{\n",
              "            console.log([gd, 'removed!']);\n",
              "            Plotly.purge(gd);\n",
              "            observer.disconnect();\n",
              "        }}\n",
              "}});\n",
              "\n",
              "// Listen for the removal of the full notebook cells\n",
              "var notebookContainer = gd.closest('#notebook-container');\n",
              "if (notebookContainer) {{\n",
              "    x.observe(notebookContainer, {childList: true});\n",
              "}}\n",
              "\n",
              "// Listen for the clearing of the current output cell\n",
              "var outputEl = gd.closest('.output');\n",
              "if (outputEl) {{\n",
              "    x.observe(outputEl, {childList: true});\n",
              "}}\n",
              "\n",
              "                        })                };                            </script>        </div>\n",
              "</body>\n",
              "</html>"
            ]
          },
          "metadata": {}
        }
      ]
    },
    {
      "cell_type": "code",
      "metadata": {
        "id": "2j7Zs1XLDGCL",
        "outputId": "e388af7d-6d00-41d9-a563-9c7906e84eff",
        "colab": {
          "base_uri": "https://localhost:8080/",
          "height": 542
        }
      },
      "source": [
        "y_true = 100 + 20 * np.random.randn(1000)\n",
        "y_pred = y_true + 10 * np.random.randn(1000)\n",
        "results = pd.DataFrame({'y_true': y_true, 'y_pred': y_pred})\n",
        "results['error'] = results['y_true'] - results['y_pred']\n",
        "\n",
        "px.histogram(results, x='error', nbins=50, width=800)"
      ],
      "execution_count": 7,
      "outputs": [
        {
          "output_type": "display_data",
          "data": {
            "text/html": [
              "<html>\n",
              "<head><meta charset=\"utf-8\" /></head>\n",
              "<body>\n",
              "    <div>            <script src=\"https://cdnjs.cloudflare.com/ajax/libs/mathjax/2.7.5/MathJax.js?config=TeX-AMS-MML_SVG\"></script><script type=\"text/javascript\">if (window.MathJax && window.MathJax.Hub && window.MathJax.Hub.Config) {window.MathJax.Hub.Config({SVG: {font: \"STIX-Web\"}});}</script>                <script type=\"text/javascript\">window.PlotlyConfig = {MathJaxConfig: 'local'};</script>\n",
              "        <script charset=\"utf-8\" src=\"https://cdn.plot.ly/plotly-2.35.2.min.js\"></script>                <div id=\"6d0098a4-bb8e-486a-a4ba-c59afd148155\" class=\"plotly-graph-div\" style=\"height:525px; width:800px;\"></div>            <script type=\"text/javascript\">                                    window.PLOTLYENV=window.PLOTLYENV || {};                                    if (document.getElementById(\"6d0098a4-bb8e-486a-a4ba-c59afd148155\")) {                    Plotly.newPlot(                        \"6d0098a4-bb8e-486a-a4ba-c59afd148155\",                        [{\"alignmentgroup\":\"True\",\"bingroup\":\"x\",\"hovertemplate\":\"error=%{x}\\u003cbr\\u003ecount=%{y}\\u003cextra\\u003e\\u003c\\u002fextra\\u003e\",\"legendgroup\":\"\",\"marker\":{\"color\":\"#636efa\",\"pattern\":{\"shape\":\"\"}},\"name\":\"\",\"nbinsx\":50,\"offsetgroup\":\"\",\"orientation\":\"v\",\"showlegend\":false,\"x\":[-22.781689066081114,-14.073457641650265,-8.92418023476219,5.8824392026784835,-3.7201156366066783,-1.9159799200731698,-9.766870527686208,4.425909475815047,-3.36662802653251,-4.398336100398765,-11.985206546806523,7.579164595476854,-14.506496373277798,-10.024014498989047,25.209625657772264,-7.198410859731709,-3.9942685872339467,0.6768702801320075,-13.615050463917598,11.523343039278657,5.370079194500519,-19.96450199274574,-10.026941220249938,2.2913226355840948,-4.866025476064721,-1.4138504349974568,-13.013658602331901,-7.947213606364784,-19.352537057937525,7.602809186194634,-8.433265158460202,-4.108641928141282,9.63853040097029,6.078459888764641,3.892415899680117,-7.140524984354656,17.70843375790089,-6.783979063885539,-1.1797371979692883,25.092190076813722,17.923456831451077,0.13358167524073394,3.952259667930093,-9.186704828296612,7.905602343268157,9.730814388821798,-10.74518404707618,9.69915411665204,2.543159635753881,-5.865951430239164,9.699149972500038,-2.922377505553328,9.557095835804716,-5.411089052485323,-9.7882502827825,-11.184071566564597,4.779096154060213,13.118527080420577,6.462431713164875,-16.23193859599639,7.872451233213084,15.732596085091956,-23.238060690632494,-14.524507737699523,-14.894169106648988,-1.1571400908487846,-0.25668293690834787,15.032966062135287,-0.5171326719903817,0.7670646681273752,11.579839662424533,-0.8161580737309606,1.6135754172022416,14.653860351898999,12.447663172956979,-14.10820820428593,5.1171008746779165,10.032219032539757,2.4134898282349155,-6.887245950265836,10.231106913532244,2.8957426179215844,-6.540679040314842,7.0513073683375325,-22.678516983422,9.447209242028691,-3.435361858420805,-12.241652441394919,-9.955702915103188,6.289800369701894,18.77162106908399,9.410073156619248,-6.015639950171092,-10.676946630087286,3.6425888172484235,-0.690443854069585,-26.623069847261362,-8.832411724201066,2.717845318429454,-0.09452948216488721,19.14516355083464,-7.3198287941492595,2.7728996616535824,12.440410098896038,-7.461213408475501,-13.064822722805687,-9.58300722667957,-9.750223627887713,-2.1454108502805838,5.4227395856621285,13.138585995925084,-10.383035265501988,-10.644847173907436,6.199471679099261,11.472751695402678,19.933098038817747,-11.41700476125854,6.003492122393816,6.236220290750779,-0.6116084452049932,2.4706448522372852,-4.630570832394369,17.23258437801975,-6.616355912628649,-5.83180902926604,-1.2411548573370084,-20.051250599480866,3.3364152263028615,3.8097451321666824,1.7163582573935088,7.956570006024307,-8.040408433144748,-5.281297923319286,-10.535885605509677,6.955898586178421,13.201151683779315,6.702625079587719,8.844054031013059,-2.6534009985995795,12.672378195824592,-8.661381168199469,-3.886121569066603,-20.498604165231512,10.351563505053448,-3.3365636055979877,9.85421972895746,6.753906497729645,-9.354969745209829,2.5185098036102573,22.51658880467008,4.432563697849901,10.669363489655566,19.13411149615746,7.7277777551534115,12.012697031389948,17.092403416913598,-13.585960104763046,-3.3557736238183082,3.5128544697713266,1.5401095800751108,-3.2432596702745258,-6.9615073353690775,-5.506401261038533,5.011345403561506,11.247330959871732,-6.668532217239431,3.0741459394386936,3.769375659836882,4.5324788491220005,-11.088473859462567,8.377127533159246,-7.369897788413809,12.69802925339414,2.9663154778713334,-7.689115590103853,1.9019370009849155,-6.972896907531137,4.2218083026373705,0.3500209319748109,-15.19604775709928,12.581692153802464,7.803082468724625,-10.087792031562657,-2.957250431975524,11.231035823240575,13.401043574668577,-6.92231452096523,10.540534131662582,-1.0543445525148911,-6.583789054809017,-20.472604950483074,-7.850371613343341,-2.338081799861584,9.230468612264701,-0.3457333655325243,25.63575048103688,-8.778470614706478,-14.613421778407897,-5.839101565155204,-8.92207902508217,-8.887281201202512,-5.500649038302839,12.43086140158998,-6.762455167858931,-5.49472094464403,11.500176206304829,3.7271448913227374,-4.172744857798676,-14.474869034177303,-16.372652188275566,12.353002599131514,13.501366242380925,-11.355937223954228,-12.928410446978688,-6.653437320366152,-4.908247941418381,18.70814807242067,4.649536010966202,-9.219558410740419,0.964070999972634,7.8426796711565885,20.105875391196207,-4.888441325061876,0.5494441780146815,-11.286637296664324,-0.7728463140426527,1.9987797786431827,0.31781491024108277,-1.3565983871726246,3.6240021828057962,-5.524849232585012,4.214017246657718,-1.3976629335713966,-0.40527992521006695,-8.186104223972578,2.2843402021293286,11.455479664578434,6.004158555669555,-5.659390627083994,-13.491237783350158,-15.010586615674825,1.8473614925200224,-15.412772652448162,1.1246551965759153,8.609274836150732,-6.934831839212777,-1.8803802241096292,-0.3473381420531041,-9.339512979539748,-11.621857644060455,7.226849345479749,9.964935798581948,4.938529143236067,0.08883563653131432,-4.530546047724954,-5.96497735033563,7.85871415587701,13.12666975980056,6.281801756531209,3.187981247922984,6.244386338019538,8.854074122699956,5.944581926197216,4.287090982069145,-4.425299046623493,8.111055854856573,3.990292383476728,-1.7118490046431702,10.181878662105476,-1.2353525770332254,3.9322082857019893,-2.028864998395136,-2.7486945378875873,-25.739560421981395,9.58065637477057,14.077930825584161,13.836662037984922,-10.720216429715322,3.768946839283217,-5.155080528918461,-3.3617175410454934,9.871230688414855,2.7318976767774217,-5.300057668642012,-0.059968188273188616,-0.7629558484151318,1.6576609538477385,19.23931016768003,15.116514017055152,-0.779450210242004,-6.574675714272587,2.828586432793628,11.17285755681415,-3.7148435057995925,-5.326174610453577,-2.5198133429208838,10.618556028469754,9.779324025351215,2.445871837663276,15.143963799086023,-5.602951167474885,-32.936215976249414,-7.409602477772438,3.0597688083821737,14.91873948991018,-12.264206200805091,-6.539650999353967,-14.066616412224533,-14.350434747315077,-19.291693737527737,8.878248822356653,17.559606725802084,15.717132853828474,8.597719417282605,-12.698297805002937,0.03971452432112699,-3.822081550496634,7.632706147258702,17.16582722934632,4.5815907003183725,10.895528037410322,-10.181705418313129,-11.516878353484785,4.933232763225433,18.774947171233492,5.760485165167992,-18.60153320774444,-0.9073845048518621,9.24495407027581,-7.790980752140825,-0.5948306395265348,-3.413327543046954,7.658874357829475,6.831659038180298,6.153687970622144,6.957898469200273,-14.595297001229113,-0.32763201213315085,-6.307394481296896,15.107211685916667,5.714006372748344,-4.760371648587011,-17.567782699029053,-8.652670785085874,14.14568881433263,14.931041098343357,-17.79887428154973,-10.937598097592826,-2.280185627456163,1.8658962964556025,1.465297901253237,-5.069299339155464,9.78600747166437,-3.9097372742443923,5.463641730351057,3.7488615559486362,-10.282801725284813,7.577032039172025,-0.7879906821328717,2.9679403399713777,-10.769511755821554,2.4718887651342243,-22.283026455850006,-5.126807426202845,-3.9577577920678806,6.586266248245508,-3.478292241879913,-8.861224501203083,7.266389437584635,-6.045437991973316,8.95398144960231,-0.7043500678494752,3.4692932110166055,5.2973381268863875,-0.28905230590356723,-5.179880342340027,-8.987844017224631,-4.091522663956795,-0.5911684607000893,-18.19947395746277,-0.03982907105628897,-2.4859975209187013,-0.7394691244152085,-4.293417040487412,4.274447200002086,-3.164978827507653,13.872516738979215,-9.711718338872885,11.915954061083767,-16.985765567453768,-11.106004596513046,0.3826360987703765,10.045670418775188,15.34350275989614,7.290442322323713,12.268755932252702,-5.324034557421143,-18.10723032362219,4.113991191443205,3.1144049824510205,-0.6259988174020918,-11.725182672210536,-8.239119005688963,-7.216537593811083,-12.172719312222682,-0.47250936930598186,3.074022814691702,-13.549879478301122,4.757671374913997,-14.43093551908143,5.931455882864881,-0.21828607718491355,10.65140264192523,-9.12722742818086,7.501327833819772,1.0346070982684665,15.091731141213842,-19.7165852212393,1.0249727952003411,-3.867858657385355,-0.5355953462600525,-11.62347981969775,-9.16475887735875,5.400324125347893,-5.696440479853607,-16.793776235987337,13.482724784002542,-13.466432681204097,1.2660778468033698,4.233318789391177,6.261372801092023,0.3727658741566273,4.59258858431744,-10.29195059310888,11.50488684278021,9.841967578961047,-8.640069583204863,4.013266482374689,11.585925665620863,-3.3473968770557008,6.357856717285969,1.1346235161148996,17.1224580544896,7.666008443595132,-25.96686988585047,-8.446808078164167,2.470399947689387,-4.39370724662524,25.45114840852993,13.340978517268951,-0.11446733312253343,26.573511611676025,-2.6834109495574836,-5.204874772775256,4.607470537820177,2.1965613267537805,12.18340376200031,-0.1385603397557702,4.017510808626184,-9.314521571109736,5.927790306604663,5.199436975706178,0.5245438192902867,-3.084696240150322,-4.795330125531706,-9.455117400550847,10.268347159679934,-17.911492717498447,-0.7195942140570111,3.4024555088944908,10.55507180366888,8.852665299608859,11.673491228546538,-13.032747800892736,-14.16492823623581,7.582940330573678,-0.5286230079498608,2.9763563337337473,5.486652102068206,-0.6937206721870268,8.004607956171725,6.533925789316783,6.8179653547766605,-9.707477798872091,1.0442667326708062,-4.691588794055434,-9.234777078281724,-14.838562437163787,33.50123368867641,-12.469882670279333,25.75544355337638,5.17503537995232,6.872767274839603,-2.7628322049352647,10.088554084401608,7.223566115781367,-7.467120296454667,-8.644168700125803,3.7443617335168966,-13.099886981918715,5.178649069464271,-14.487526519561825,6.095670159426291,-10.310169678283614,8.6451291223662,21.37660382849998,0.9490642606244251,-13.641411594057772,15.843955377731874,-10.218230623850559,1.5446741139056428,-2.656873195021319,0.650918756994173,0.5890166627944069,16.343939697038863,4.451336459369301,-0.8444234847005703,-4.050062738042172,0.08590468728874612,10.343335329207235,8.540869996334706,23.11261209770396,-0.8859918189206155,-10.96630499138351,-9.67390354057018,-12.14592764837451,9.808182820925907,3.990680054617883,-11.384013041048206,11.898083620625457,-6.887304299137867,19.745377648997547,22.744794146939114,2.802584479962775,16.10337462349095,7.08317551999221,2.3653471845179297,17.81561374647898,9.127907037700965,-0.5268175587843444,1.9860886455898452,-5.566881570832905,-8.717315100106731,-4.60771452743775,-2.050605895362594,-2.0150152945934963,-4.5924424713928005,0.38463735526804044,-10.148260976712507,2.8949891417368576,3.1048285535208606,5.586678368787645,-5.869724539480785,-1.5902371396148425,-2.485935073874032,-7.758704970478689,9.805770528836646,2.9438421298070594,15.380576736268608,11.890513613981796,12.73956720216519,-7.466163798395385,-0.6925680047701661,7.588864897305953,21.379551788789797,7.629849329130764,-2.1758854538147006,-13.929873110266051,-8.524699005906655,-12.682693890190237,0.2387636701274829,-23.059476126423036,-0.22024487749065713,-5.30425039568928,-5.102690230999968,1.9689795687336158,5.811570119123772,1.43538486406986,0.3988136574547809,-4.0057127162093025,-17.758548848463093,15.34854576510557,-22.091877131747992,-13.277053996592969,-27.658435217582934,1.4547519753306233,11.099777664693065,-1.7274312536059568,-14.842061513400736,-29.226113573941987,10.951958544163759,15.724809859222418,8.07102215240846,22.297318761823576,3.7458107111457224,-12.228781461040867,-15.149840428156821,10.130705512563722,-14.256161773586456,-13.499173822288498,-13.751596777844867,8.226668763974018,-3.207948286578926,3.2785455130848504,0.017683902891548087,0.04819864261189366,-22.516596210384918,-10.554599215701714,7.881911610423387,2.411687202122309,-3.8519109076444664,-22.18637093408755,3.6966414569754704,-5.407180683113495,-4.451086351780745,-8.06117970303518,-0.28104583684293516,-7.797119067474952,-1.6677460805430968,9.980637175993465,11.344917447944667,5.436539036137674,10.948742708653029,9.662701396239882,-4.623084129545276,5.900312081336054,-26.793932924627867,-13.144702367803262,-20.08289764895477,-8.679877387554782,-5.287525925889682,4.288461817627933,-0.4140501943781061,-0.6405575847683878,0.21034318913226002,15.966716160229069,-9.4421034184452,3.036877395809796,-1.0696771398841207,7.824391509769612,-5.115410283699347,-1.2366481544096501,-1.19075643760047,-7.457178780181309,-10.537110531694069,4.805231708974304,2.1207074450157393,-12.699553018544194,-5.388374584088993,9.426596826471012,8.577096245205958,-1.0269462485725853,-2.7514375813613867,2.5200343419919164,-6.275782547348925,-3.691484140910802,0.6108046277665267,9.401431513584882,4.662147352668086,15.24498289351969,-4.319244350154747,-2.1315731071505866,-12.987752435695214,3.4230181172066096,21.34181927767966,-5.596437710761606,7.779736673297094,18.25202044426196,-2.715023265477825,-6.808363428888143,7.589294473739699,-11.394602221477655,20.152558051229022,-0.3468927154735866,6.417023373086423,-15.060502331109205,4.691702779509839,3.2603138587970903,4.602435556480799,8.844505491439165,-11.749629684898167,-0.8956014221583786,0.07771936168857962,10.634239103892156,-0.7023012200481418,-1.2985863299505667,-2.2443450479189835,15.45741477626919,-1.8182245283038014,9.917113317161878,-2.1702019998514572,-1.0525440091097238,16.059969279582276,12.127806909970644,-1.4843154524025692,7.680586943700632,-7.626972223715214,-9.400782752864238,-1.401177020288003,-6.6868036467867285,10.062275570449358,14.878495558949254,13.949221449830233,-11.87975380948663,0.3594424478490055,-5.910834138133737,-14.930592537408131,-7.713380924496036,0.06018130485939821,-9.920592370314836,-1.1446313710993365,-19.578405671208415,1.9969986334178884,12.233619055179162,13.534724034274532,-13.800842525106532,-7.388384702688398,20.371650628215193,3.5537418936251015,-3.200366539134407,10.31764987902855,-14.025724558693867,4.928024260572315,5.926155837541415,-10.32078845146475,-0.29834369225301316,11.485099383887743,-0.5346179437534886,7.3281083135071725,-18.110424893880378,11.965130426815236,-12.772228463667844,-10.642859063403336,4.103402043202465,14.044555873327624,-1.211595128324305,11.287622149257913,16.593343148338505,-16.161393239755057,-6.670393010663105,-8.152031008308782,-15.780675777401186,-7.352375538601166,0.9022098666522993,-9.0911524448519,-8.593481803045378,3.1344303486124403,25.369632499248894,-23.153443310017785,-9.008650524419139,-10.306808547286693,13.628550312558438,-17.092223370017038,-26.127117896428274,1.6519281392679943,14.199868129174021,2.789080628557855,2.727879701621987,6.823740807475971,13.842553522094292,17.86706992690918,5.1631523245106195,0.3859938059777761,-9.851769880316951,-0.154921972036405,4.252882219626031,8.754862033691495,-7.578711591543922,-2.895977507391507,-3.1567661430723746,1.731084180883471,-3.1000551318836074,13.729716587910076,-6.763805588569525,2.631500297983891,7.010070303755995,-9.400480653497553,-3.248359047943083,-1.2267722122609968,-3.1532332512425256,-11.315712266947557,-9.400124393638492,-3.1214870631219753,-7.344388360951939,-9.885514883657876,6.859222779339191,4.630328407229541,-14.884320997714312,1.2432053515812385,2.976949508913961,17.423874477868893,-1.0434819129764321,-13.010992683528002,-18.87044633510189,17.756871098391457,7.82104025950909,15.540139300261075,7.951402099664961,-15.849662789847969,-18.715423089971722,-7.734952238153838,3.9848497081681415,-4.0818488215264495,10.333284989340825,11.989034965354563,7.181430737734644,-3.2244026318184638,-7.979819077559085,-12.57718717898814,2.95133661696768,-3.062676988706002,-0.5176514026567389,-5.059059064431665,-2.4729740346249116,7.241749113633318,-2.4282456123283254,-11.379175175926548,-9.882661660559464,11.329077853056418,-10.715674407761256,-3.9760062770377402,-6.101493933242708,-4.229617315546989,-2.3379732425712234,-7.192294418678202,9.77949047818538,8.39653365827175,-15.385593809486167,8.711694228083132,4.164846818470593,-1.8176473432767892,15.548418991603342,-19.0040659554749,4.146496931211516,5.660472539009476,4.749894587465164,-23.412250857810292,-15.204340928528183,-3.9812914671507826,1.6843989664293986,2.4869048558848306,-9.004414475848051,9.633477457252141,3.1102206986224985,-4.063034266054018,6.3401911392395505,1.3840237954490675,-3.4066243185655907,-4.099172352486505,5.004872080366063,-5.528978503400921,13.265660085137924,15.948033926059964,-3.3611864757550194,2.3049683880201712,-7.279492916947277,4.08239184899395,4.121056390353999,-16.23709964703376,11.070865414883016,18.06169433119355,-10.460589676780486,7.083711944694784,-13.356990370542945,-1.9821928202413233,3.583875840842964,4.040420905031979,26.25309093904957,2.575885115522283,-6.658492148948255,-11.63217241259376,5.387956463558254,3.600902491921886,14.486495909560531,-16.215173375603683,-3.8517181809871914,9.086872672784722,-11.973498521505405,-7.724105866218181,-2.9550166749798734,15.291362810890718,7.004764820504974,-15.843508456805836,-1.8222690553122618,8.726776277515526,5.2198076698126386,15.456335263424066,-9.180667049083937,-1.1349023417899105,-0.24261106415535494,4.303759729838049,-3.4279046429633695,5.792402486741217,-6.581927507141472,-5.8397675723223585,0.3128278659048931,-5.443766194282134,20.03657395654571,3.64410457831373,-2.2545801510724175,-18.472192364767636,-11.532906941534563,13.782506485102289,3.9087071844584216,14.02958112109171,-1.8275356665268987,-10.989499146313058,-1.9542019673585145,-1.1361078788242907,-21.716316432755747,-12.020797323684818,0.9185044174402179,10.093594348477936,0.13891439675477102,-5.630622469967463,-0.033275352672688996,21.214293558596438,6.381793881123684,-9.593351033178536,-5.810593005667926,-6.850215568308698,3.7953650968030246,-18.209263824757727,8.37903199072474,7.612344111074222,8.146384354404262,-9.292310935618403,6.393994978655314,25.627975130746876,-5.376274474721839,-9.131899361837071,-5.845936692462757,5.716872632436548,-7.92167629808192,5.490643805880353,6.141438689586124,0.6630293303339698,2.8347605672011156,-4.197025924699446,-4.807719116627155,-9.299568421745803,1.124135047900623,11.078969921704527,-1.411692975565515,4.615590588396458,10.515783451406477,-16.590149417000745,-8.412720413515828,5.166136708178485,7.690389063625275,-9.250814942237113,0.46370135298944604,-1.9953370701733064,14.528312452197298,-22.59453676785047,-4.143655889261737,-11.900033112178178,-0.008310333553509963,-16.658908776110096,-7.71639417933757,-12.348051524278276,-11.731039349179255,7.5118356869595715,12.464857042782185,3.7936247204632423,14.685777106591615,-3.982369224986428,1.108366955772027,-4.7469087622519766,6.373760086587424,9.45177389460494,6.428744321496083,-6.010553625582908,6.208706027358453,-0.7335749567687486,0.009877377254213116,-0.2743524340288843,-5.65705349810959,-2.3124042581014805,1.0923992510528535,13.739827896319383,14.64871151015069,-4.655119349793097,-28.43492832315509,-10.34344351302937,-6.9204239964650185,7.6924684299270325,0.8673568947962167,18.277867637609646,-8.00751340763938,-15.238370340091294,-8.085490285606824,-12.162870020784453,-4.788547966933592,-1.0884844790545287,-1.0711103056575553,-3.455881629729447,13.047409507061559,-3.392244145765517,-11.4382570344643],\"xaxis\":\"x\",\"yaxis\":\"y\",\"type\":\"histogram\"}],                        {\"template\":{\"data\":{\"histogram2dcontour\":[{\"type\":\"histogram2dcontour\",\"colorbar\":{\"outlinewidth\":0,\"ticks\":\"\"},\"colorscale\":[[0.0,\"#0d0887\"],[0.1111111111111111,\"#46039f\"],[0.2222222222222222,\"#7201a8\"],[0.3333333333333333,\"#9c179e\"],[0.4444444444444444,\"#bd3786\"],[0.5555555555555556,\"#d8576b\"],[0.6666666666666666,\"#ed7953\"],[0.7777777777777778,\"#fb9f3a\"],[0.8888888888888888,\"#fdca26\"],[1.0,\"#f0f921\"]]}],\"choropleth\":[{\"type\":\"choropleth\",\"colorbar\":{\"outlinewidth\":0,\"ticks\":\"\"}}],\"histogram2d\":[{\"type\":\"histogram2d\",\"colorbar\":{\"outlinewidth\":0,\"ticks\":\"\"},\"colorscale\":[[0.0,\"#0d0887\"],[0.1111111111111111,\"#46039f\"],[0.2222222222222222,\"#7201a8\"],[0.3333333333333333,\"#9c179e\"],[0.4444444444444444,\"#bd3786\"],[0.5555555555555556,\"#d8576b\"],[0.6666666666666666,\"#ed7953\"],[0.7777777777777778,\"#fb9f3a\"],[0.8888888888888888,\"#fdca26\"],[1.0,\"#f0f921\"]]}],\"heatmap\":[{\"type\":\"heatmap\",\"colorbar\":{\"outlinewidth\":0,\"ticks\":\"\"},\"colorscale\":[[0.0,\"#0d0887\"],[0.1111111111111111,\"#46039f\"],[0.2222222222222222,\"#7201a8\"],[0.3333333333333333,\"#9c179e\"],[0.4444444444444444,\"#bd3786\"],[0.5555555555555556,\"#d8576b\"],[0.6666666666666666,\"#ed7953\"],[0.7777777777777778,\"#fb9f3a\"],[0.8888888888888888,\"#fdca26\"],[1.0,\"#f0f921\"]]}],\"heatmapgl\":[{\"type\":\"heatmapgl\",\"colorbar\":{\"outlinewidth\":0,\"ticks\":\"\"},\"colorscale\":[[0.0,\"#0d0887\"],[0.1111111111111111,\"#46039f\"],[0.2222222222222222,\"#7201a8\"],[0.3333333333333333,\"#9c179e\"],[0.4444444444444444,\"#bd3786\"],[0.5555555555555556,\"#d8576b\"],[0.6666666666666666,\"#ed7953\"],[0.7777777777777778,\"#fb9f3a\"],[0.8888888888888888,\"#fdca26\"],[1.0,\"#f0f921\"]]}],\"contourcarpet\":[{\"type\":\"contourcarpet\",\"colorbar\":{\"outlinewidth\":0,\"ticks\":\"\"}}],\"contour\":[{\"type\":\"contour\",\"colorbar\":{\"outlinewidth\":0,\"ticks\":\"\"},\"colorscale\":[[0.0,\"#0d0887\"],[0.1111111111111111,\"#46039f\"],[0.2222222222222222,\"#7201a8\"],[0.3333333333333333,\"#9c179e\"],[0.4444444444444444,\"#bd3786\"],[0.5555555555555556,\"#d8576b\"],[0.6666666666666666,\"#ed7953\"],[0.7777777777777778,\"#fb9f3a\"],[0.8888888888888888,\"#fdca26\"],[1.0,\"#f0f921\"]]}],\"surface\":[{\"type\":\"surface\",\"colorbar\":{\"outlinewidth\":0,\"ticks\":\"\"},\"colorscale\":[[0.0,\"#0d0887\"],[0.1111111111111111,\"#46039f\"],[0.2222222222222222,\"#7201a8\"],[0.3333333333333333,\"#9c179e\"],[0.4444444444444444,\"#bd3786\"],[0.5555555555555556,\"#d8576b\"],[0.6666666666666666,\"#ed7953\"],[0.7777777777777778,\"#fb9f3a\"],[0.8888888888888888,\"#fdca26\"],[1.0,\"#f0f921\"]]}],\"mesh3d\":[{\"type\":\"mesh3d\",\"colorbar\":{\"outlinewidth\":0,\"ticks\":\"\"}}],\"scatter\":[{\"fillpattern\":{\"fillmode\":\"overlay\",\"size\":10,\"solidity\":0.2},\"type\":\"scatter\"}],\"parcoords\":[{\"type\":\"parcoords\",\"line\":{\"colorbar\":{\"outlinewidth\":0,\"ticks\":\"\"}}}],\"scatterpolargl\":[{\"type\":\"scatterpolargl\",\"marker\":{\"colorbar\":{\"outlinewidth\":0,\"ticks\":\"\"}}}],\"bar\":[{\"error_x\":{\"color\":\"#2a3f5f\"},\"error_y\":{\"color\":\"#2a3f5f\"},\"marker\":{\"line\":{\"color\":\"#E5ECF6\",\"width\":0.5},\"pattern\":{\"fillmode\":\"overlay\",\"size\":10,\"solidity\":0.2}},\"type\":\"bar\"}],\"scattergeo\":[{\"type\":\"scattergeo\",\"marker\":{\"colorbar\":{\"outlinewidth\":0,\"ticks\":\"\"}}}],\"scatterpolar\":[{\"type\":\"scatterpolar\",\"marker\":{\"colorbar\":{\"outlinewidth\":0,\"ticks\":\"\"}}}],\"histogram\":[{\"marker\":{\"pattern\":{\"fillmode\":\"overlay\",\"size\":10,\"solidity\":0.2}},\"type\":\"histogram\"}],\"scattergl\":[{\"type\":\"scattergl\",\"marker\":{\"colorbar\":{\"outlinewidth\":0,\"ticks\":\"\"}}}],\"scatter3d\":[{\"type\":\"scatter3d\",\"line\":{\"colorbar\":{\"outlinewidth\":0,\"ticks\":\"\"}},\"marker\":{\"colorbar\":{\"outlinewidth\":0,\"ticks\":\"\"}}}],\"scattermapbox\":[{\"type\":\"scattermapbox\",\"marker\":{\"colorbar\":{\"outlinewidth\":0,\"ticks\":\"\"}}}],\"scatterternary\":[{\"type\":\"scatterternary\",\"marker\":{\"colorbar\":{\"outlinewidth\":0,\"ticks\":\"\"}}}],\"scattercarpet\":[{\"type\":\"scattercarpet\",\"marker\":{\"colorbar\":{\"outlinewidth\":0,\"ticks\":\"\"}}}],\"carpet\":[{\"aaxis\":{\"endlinecolor\":\"#2a3f5f\",\"gridcolor\":\"white\",\"linecolor\":\"white\",\"minorgridcolor\":\"white\",\"startlinecolor\":\"#2a3f5f\"},\"baxis\":{\"endlinecolor\":\"#2a3f5f\",\"gridcolor\":\"white\",\"linecolor\":\"white\",\"minorgridcolor\":\"white\",\"startlinecolor\":\"#2a3f5f\"},\"type\":\"carpet\"}],\"table\":[{\"cells\":{\"fill\":{\"color\":\"#EBF0F8\"},\"line\":{\"color\":\"white\"}},\"header\":{\"fill\":{\"color\":\"#C8D4E3\"},\"line\":{\"color\":\"white\"}},\"type\":\"table\"}],\"barpolar\":[{\"marker\":{\"line\":{\"color\":\"#E5ECF6\",\"width\":0.5},\"pattern\":{\"fillmode\":\"overlay\",\"size\":10,\"solidity\":0.2}},\"type\":\"barpolar\"}],\"pie\":[{\"automargin\":true,\"type\":\"pie\"}]},\"layout\":{\"autotypenumbers\":\"strict\",\"colorway\":[\"#636efa\",\"#EF553B\",\"#00cc96\",\"#ab63fa\",\"#FFA15A\",\"#19d3f3\",\"#FF6692\",\"#B6E880\",\"#FF97FF\",\"#FECB52\"],\"font\":{\"color\":\"#2a3f5f\"},\"hovermode\":\"closest\",\"hoverlabel\":{\"align\":\"left\"},\"paper_bgcolor\":\"white\",\"plot_bgcolor\":\"#E5ECF6\",\"polar\":{\"bgcolor\":\"#E5ECF6\",\"angularaxis\":{\"gridcolor\":\"white\",\"linecolor\":\"white\",\"ticks\":\"\"},\"radialaxis\":{\"gridcolor\":\"white\",\"linecolor\":\"white\",\"ticks\":\"\"}},\"ternary\":{\"bgcolor\":\"#E5ECF6\",\"aaxis\":{\"gridcolor\":\"white\",\"linecolor\":\"white\",\"ticks\":\"\"},\"baxis\":{\"gridcolor\":\"white\",\"linecolor\":\"white\",\"ticks\":\"\"},\"caxis\":{\"gridcolor\":\"white\",\"linecolor\":\"white\",\"ticks\":\"\"}},\"coloraxis\":{\"colorbar\":{\"outlinewidth\":0,\"ticks\":\"\"}},\"colorscale\":{\"sequential\":[[0.0,\"#0d0887\"],[0.1111111111111111,\"#46039f\"],[0.2222222222222222,\"#7201a8\"],[0.3333333333333333,\"#9c179e\"],[0.4444444444444444,\"#bd3786\"],[0.5555555555555556,\"#d8576b\"],[0.6666666666666666,\"#ed7953\"],[0.7777777777777778,\"#fb9f3a\"],[0.8888888888888888,\"#fdca26\"],[1.0,\"#f0f921\"]],\"sequentialminus\":[[0.0,\"#0d0887\"],[0.1111111111111111,\"#46039f\"],[0.2222222222222222,\"#7201a8\"],[0.3333333333333333,\"#9c179e\"],[0.4444444444444444,\"#bd3786\"],[0.5555555555555556,\"#d8576b\"],[0.6666666666666666,\"#ed7953\"],[0.7777777777777778,\"#fb9f3a\"],[0.8888888888888888,\"#fdca26\"],[1.0,\"#f0f921\"]],\"diverging\":[[0,\"#8e0152\"],[0.1,\"#c51b7d\"],[0.2,\"#de77ae\"],[0.3,\"#f1b6da\"],[0.4,\"#fde0ef\"],[0.5,\"#f7f7f7\"],[0.6,\"#e6f5d0\"],[0.7,\"#b8e186\"],[0.8,\"#7fbc41\"],[0.9,\"#4d9221\"],[1,\"#276419\"]]},\"xaxis\":{\"gridcolor\":\"white\",\"linecolor\":\"white\",\"ticks\":\"\",\"title\":{\"standoff\":15},\"zerolinecolor\":\"white\",\"automargin\":true,\"zerolinewidth\":2},\"yaxis\":{\"gridcolor\":\"white\",\"linecolor\":\"white\",\"ticks\":\"\",\"title\":{\"standoff\":15},\"zerolinecolor\":\"white\",\"automargin\":true,\"zerolinewidth\":2},\"scene\":{\"xaxis\":{\"backgroundcolor\":\"#E5ECF6\",\"gridcolor\":\"white\",\"linecolor\":\"white\",\"showbackground\":true,\"ticks\":\"\",\"zerolinecolor\":\"white\",\"gridwidth\":2},\"yaxis\":{\"backgroundcolor\":\"#E5ECF6\",\"gridcolor\":\"white\",\"linecolor\":\"white\",\"showbackground\":true,\"ticks\":\"\",\"zerolinecolor\":\"white\",\"gridwidth\":2},\"zaxis\":{\"backgroundcolor\":\"#E5ECF6\",\"gridcolor\":\"white\",\"linecolor\":\"white\",\"showbackground\":true,\"ticks\":\"\",\"zerolinecolor\":\"white\",\"gridwidth\":2}},\"shapedefaults\":{\"line\":{\"color\":\"#2a3f5f\"}},\"annotationdefaults\":{\"arrowcolor\":\"#2a3f5f\",\"arrowhead\":0,\"arrowwidth\":1},\"geo\":{\"bgcolor\":\"white\",\"landcolor\":\"#E5ECF6\",\"subunitcolor\":\"white\",\"showland\":true,\"showlakes\":true,\"lakecolor\":\"white\"},\"title\":{\"x\":0.05},\"mapbox\":{\"style\":\"light\"}}},\"xaxis\":{\"anchor\":\"y\",\"domain\":[0.0,1.0],\"title\":{\"text\":\"error\"}},\"yaxis\":{\"anchor\":\"x\",\"domain\":[0.0,1.0],\"title\":{\"text\":\"count\"}},\"legend\":{\"tracegroupgap\":0},\"margin\":{\"t\":60},\"barmode\":\"relative\",\"width\":800},                        {\"responsive\": true}                    ).then(function(){\n",
              "                            \n",
              "var gd = document.getElementById('6d0098a4-bb8e-486a-a4ba-c59afd148155');\n",
              "var x = new MutationObserver(function (mutations, observer) {{\n",
              "        var display = window.getComputedStyle(gd).display;\n",
              "        if (!display || display === 'none') {{\n",
              "            console.log([gd, 'removed!']);\n",
              "            Plotly.purge(gd);\n",
              "            observer.disconnect();\n",
              "        }}\n",
              "}});\n",
              "\n",
              "// Listen for the removal of the full notebook cells\n",
              "var notebookContainer = gd.closest('#notebook-container');\n",
              "if (notebookContainer) {{\n",
              "    x.observe(notebookContainer, {childList: true});\n",
              "}}\n",
              "\n",
              "// Listen for the clearing of the current output cell\n",
              "var outputEl = gd.closest('.output');\n",
              "if (outputEl) {{\n",
              "    x.observe(outputEl, {childList: true});\n",
              "}}\n",
              "\n",
              "                        })                };                            </script>        </div>\n",
              "</body>\n",
              "</html>"
            ]
          },
          "metadata": {}
        }
      ]
    },
    {
      "cell_type": "markdown",
      "metadata": {
        "id": "ZVr1O1j3FFiM"
      },
      "source": [
        "### <a name='a3'></a> Mean Absolute Error - Średni błąd bezwzględny\n",
        "### $$MAE = \\frac{1}{n}\\sum_{i=1}^{n}|y_{true} - y_{pred}|$$"
      ]
    },
    {
      "cell_type": "code",
      "metadata": {
        "id": "4fwXpVNyFXBl",
        "outputId": "f0ae93ad-16c2-4a73-986d-7d372d8432e1",
        "colab": {
          "base_uri": "https://localhost:8080/"
        }
      },
      "source": [
        "def mean_absolute_error(y_true, y_pred):\n",
        "    return abs(y_true - y_pred).sum() / len(y_true)\n",
        "\n",
        "mean_absolute_error(y_true, y_pred)"
      ],
      "execution_count": 8,
      "outputs": [
        {
          "output_type": "execute_result",
          "data": {
            "text/plain": [
              "8.134597070989171"
            ]
          },
          "metadata": {},
          "execution_count": 8
        }
      ]
    },
    {
      "cell_type": "code",
      "metadata": {
        "id": "nOINyAyqErWz",
        "outputId": "dfb07f08-335f-4713-dc71-b5bbfaecb602",
        "colab": {
          "base_uri": "https://localhost:8080/"
        }
      },
      "source": [
        "from sklearn.metrics import mean_absolute_error\n",
        "mean_absolute_error(y_true, y_pred)"
      ],
      "execution_count": 9,
      "outputs": [
        {
          "output_type": "execute_result",
          "data": {
            "text/plain": [
              "8.134597070989171"
            ]
          },
          "metadata": {},
          "execution_count": 9
        }
      ]
    },
    {
      "cell_type": "markdown",
      "metadata": {
        "id": "dbAtacGCGjaR"
      },
      "source": [
        "### <a name='a4'></a> Mean Squared Error - MSE - Błąd średniokwadratowy\n",
        "### $$MSE = \\frac{1}{n}\\sum_{i=1}^{n}(y_{true} - y_{pred})^{2}$$"
      ]
    },
    {
      "cell_type": "code",
      "metadata": {
        "id": "rikMpoD9E91I",
        "outputId": "85be0a63-fee8-4ad3-d41a-a215e2a1b66c",
        "colab": {
          "base_uri": "https://localhost:8080/"
        }
      },
      "source": [
        "def mean_squared_error(y_true, y_pred):\n",
        "    return ((y_true - y_pred) ** 2).sum() / len(y_true)\n",
        "\n",
        "mean_squared_error(y_true, y_pred)"
      ],
      "execution_count": 10,
      "outputs": [
        {
          "output_type": "execute_result",
          "data": {
            "text/plain": [
              "102.35537136983471"
            ]
          },
          "metadata": {},
          "execution_count": 10
        }
      ]
    },
    {
      "cell_type": "code",
      "metadata": {
        "id": "BxQx5HFaGzi5",
        "outputId": "88c7d339-197a-451e-a0ff-2cfeeb559493",
        "colab": {
          "base_uri": "https://localhost:8080/"
        }
      },
      "source": [
        "from sklearn.metrics import mean_squared_error\n",
        "\n",
        "mean_squared_error(y_true, y_pred)"
      ],
      "execution_count": 11,
      "outputs": [
        {
          "output_type": "execute_result",
          "data": {
            "text/plain": [
              "102.35537136983471"
            ]
          },
          "metadata": {},
          "execution_count": 11
        }
      ]
    },
    {
      "cell_type": "markdown",
      "metadata": {
        "id": "SKJJg3jNG-xj"
      },
      "source": [
        "### <a name='a5'></a> Root Mean Squared Error - RMSE - Pierwiastek błędu średniokwadratowego\n",
        "### $$RMSE = \\sqrt{MSE}$$"
      ]
    },
    {
      "cell_type": "code",
      "metadata": {
        "id": "ZoEokLM8G8JO",
        "outputId": "b6de2cba-64ef-4501-cd1e-f9de2ccca25c",
        "colab": {
          "base_uri": "https://localhost:8080/"
        }
      },
      "source": [
        "def root_mean_squared_error(y_true, y_pred):\n",
        "    return np.sqrt(((y_true - y_pred) ** 2).sum() / len(y_true))\n",
        "\n",
        "root_mean_squared_error(y_true, y_pred)"
      ],
      "execution_count": 12,
      "outputs": [
        {
          "output_type": "execute_result",
          "data": {
            "text/plain": [
              "10.117083145345536"
            ]
          },
          "metadata": {},
          "execution_count": 12
        }
      ]
    },
    {
      "cell_type": "code",
      "metadata": {
        "id": "VEdgXl5PHdEQ",
        "outputId": "8e67e634-fccb-48a6-ce35-aa7e28590847",
        "colab": {
          "base_uri": "https://localhost:8080/"
        }
      },
      "source": [
        "np.sqrt(mean_squared_error(y_true, y_pred))"
      ],
      "execution_count": 13,
      "outputs": [
        {
          "output_type": "execute_result",
          "data": {
            "text/plain": [
              "10.117083145345536"
            ]
          },
          "metadata": {},
          "execution_count": 13
        }
      ]
    },
    {
      "cell_type": "markdown",
      "metadata": {
        "id": "wzS5t7dzIH-x"
      },
      "source": [
        "### <a name='a6'></a>  Max Error - Błąd maksymalny\n",
        "\n",
        "$$ME = max(|y\\_true - y\\_pred|)$$"
      ]
    },
    {
      "cell_type": "code",
      "metadata": {
        "id": "0v4d3b_FHsYO"
      },
      "source": [
        "def max_error(y_true, y_pred):\n",
        "    return abs(y_true - y_pred).max()"
      ],
      "execution_count": 14,
      "outputs": []
    },
    {
      "cell_type": "code",
      "metadata": {
        "id": "IbSGizXdH1Fc",
        "outputId": "5a209ed8-823c-40c3-9b6b-172b44451681",
        "colab": {
          "base_uri": "https://localhost:8080/"
        }
      },
      "source": [
        "max_error(y_true, y_pred)"
      ],
      "execution_count": 15,
      "outputs": [
        {
          "output_type": "execute_result",
          "data": {
            "text/plain": [
              "33.50123368867641"
            ]
          },
          "metadata": {},
          "execution_count": 15
        }
      ]
    },
    {
      "cell_type": "code",
      "metadata": {
        "id": "NQPVS0cSIAsC",
        "outputId": "a4b0e5d2-3689-4c6a-f2a8-f809f1d932a2",
        "colab": {
          "base_uri": "https://localhost:8080/"
        }
      },
      "source": [
        "from sklearn.metrics import max_error\n",
        "\n",
        "max_error(y_true, y_pred)"
      ],
      "execution_count": 16,
      "outputs": [
        {
          "output_type": "execute_result",
          "data": {
            "text/plain": [
              "33.50123368867641"
            ]
          },
          "metadata": {},
          "execution_count": 16
        }
      ]
    },
    {
      "cell_type": "markdown",
      "metadata": {
        "id": "xRrH2NA5IYt9"
      },
      "source": [
        "### <a name='a7'></a>  R2 score - współczynnik determinacji\n",
        "### $$R2\\_score = 1 - \\frac{\\sum_{i=1}^{N}(y_{true} - y_{pred})^{2}}{\\sum_{i=1}^{N}(y_{true} - \\overline{y_{true}})^{2}}$$"
      ]
    },
    {
      "cell_type": "code",
      "metadata": {
        "id": "ePP8ovwPIGu0",
        "outputId": "1d6158ba-e79d-4612-f918-50805a397cc8",
        "colab": {
          "base_uri": "https://localhost:8080/"
        }
      },
      "source": [
        "from sklearn.metrics import r2_score\n",
        "\n",
        "r2_score(y_true, y_pred)"
      ],
      "execution_count": 17,
      "outputs": [
        {
          "output_type": "execute_result",
          "data": {
            "text/plain": [
              "0.735868040061618"
            ]
          },
          "metadata": {},
          "execution_count": 17
        }
      ]
    },
    {
      "cell_type": "code",
      "metadata": {
        "id": "GWtiZRcPIsdP"
      },
      "source": [
        "def r2_score(y_true, y_pred):\n",
        "    numerator = ((y_true - y_pred) ** 2).sum()\n",
        "    denominator = ((y_true - y_true.mean()) ** 2).sum()\n",
        "    try:\n",
        "        r2 = 1 - numerator / denominator\n",
        "    except ZeroDivisionError:\n",
        "        print('Dzielenie przez zero')\n",
        "    return r2"
      ],
      "execution_count": null,
      "outputs": []
    },
    {
      "cell_type": "code",
      "metadata": {
        "id": "q4LYk_8oJNTP",
        "outputId": "9bc287d1-be41-48e0-fdaa-9f1fd3e00699",
        "colab": {
          "base_uri": "https://localhost:8080/"
        }
      },
      "source": [
        "r2_score(y_true, y_pred)"
      ],
      "execution_count": 18,
      "outputs": [
        {
          "output_type": "execute_result",
          "data": {
            "text/plain": [
              "0.735868040061618"
            ]
          },
          "metadata": {},
          "execution_count": 18
        }
      ]
    },
    {
      "cell_type": "code",
      "metadata": {
        "id": "xuBi36i72dOY"
      },
      "source": [],
      "execution_count": null,
      "outputs": []
    }
  ]
}